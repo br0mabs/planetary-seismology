{
  "cells": [
    {
      "cell_type": "markdown",
      "id": "b70993fd",
      "metadata": {
        "id": "b70993fd"
      },
      "source": [
        "# Example Jupyter notebook to work with the data"
      ]
    },
    {
      "cell_type": "markdown",
      "id": "13c05b6a",
      "metadata": {
        "id": "13c05b6a"
      },
      "source": [
        "# Read in and plot the Apollo 12 Grade A catalog"
      ]
    },
    {
      "cell_type": "code",
      "source": [
        "!pip install obspy"
      ],
      "metadata": {
        "id": "YqLsjr3-O2hY",
        "colab": {
          "base_uri": "https://localhost:8080/"
        },
        "outputId": "9d62e79a-ad13-47ff-cd48-393ad5d22876"
      },
      "id": "YqLsjr3-O2hY",
      "execution_count": 1,
      "outputs": [
        {
          "output_type": "stream",
          "name": "stdout",
          "text": [
            "Requirement already satisfied: obspy in /usr/local/lib/python3.10/dist-packages (1.4.1)\n",
            "Requirement already satisfied: numpy>=1.20 in /usr/local/lib/python3.10/dist-packages (from obspy) (1.26.4)\n",
            "Requirement already satisfied: scipy>=1.7 in /usr/local/lib/python3.10/dist-packages (from obspy) (1.13.1)\n",
            "Requirement already satisfied: matplotlib>=3.3 in /usr/local/lib/python3.10/dist-packages (from obspy) (3.7.1)\n",
            "Requirement already satisfied: lxml in /usr/local/lib/python3.10/dist-packages (from obspy) (4.9.4)\n",
            "Requirement already satisfied: setuptools in /usr/local/lib/python3.10/dist-packages (from obspy) (71.0.4)\n",
            "Requirement already satisfied: sqlalchemy<2 in /usr/local/lib/python3.10/dist-packages (from obspy) (1.4.54)\n",
            "Requirement already satisfied: decorator in /usr/local/lib/python3.10/dist-packages (from obspy) (4.4.2)\n",
            "Requirement already satisfied: requests in /usr/local/lib/python3.10/dist-packages (from obspy) (2.32.3)\n",
            "Requirement already satisfied: contourpy>=1.0.1 in /usr/local/lib/python3.10/dist-packages (from matplotlib>=3.3->obspy) (1.3.0)\n",
            "Requirement already satisfied: cycler>=0.10 in /usr/local/lib/python3.10/dist-packages (from matplotlib>=3.3->obspy) (0.12.1)\n",
            "Requirement already satisfied: fonttools>=4.22.0 in /usr/local/lib/python3.10/dist-packages (from matplotlib>=3.3->obspy) (4.54.1)\n",
            "Requirement already satisfied: kiwisolver>=1.0.1 in /usr/local/lib/python3.10/dist-packages (from matplotlib>=3.3->obspy) (1.4.7)\n",
            "Requirement already satisfied: packaging>=20.0 in /usr/local/lib/python3.10/dist-packages (from matplotlib>=3.3->obspy) (24.1)\n",
            "Requirement already satisfied: pillow>=6.2.0 in /usr/local/lib/python3.10/dist-packages (from matplotlib>=3.3->obspy) (10.4.0)\n",
            "Requirement already satisfied: pyparsing>=2.3.1 in /usr/local/lib/python3.10/dist-packages (from matplotlib>=3.3->obspy) (3.1.4)\n",
            "Requirement already satisfied: python-dateutil>=2.7 in /usr/local/lib/python3.10/dist-packages (from matplotlib>=3.3->obspy) (2.8.2)\n",
            "Requirement already satisfied: greenlet!=0.4.17 in /usr/local/lib/python3.10/dist-packages (from sqlalchemy<2->obspy) (3.1.1)\n",
            "Requirement already satisfied: charset-normalizer<4,>=2 in /usr/local/lib/python3.10/dist-packages (from requests->obspy) (3.3.2)\n",
            "Requirement already satisfied: idna<4,>=2.5 in /usr/local/lib/python3.10/dist-packages (from requests->obspy) (3.10)\n",
            "Requirement already satisfied: urllib3<3,>=1.21.1 in /usr/local/lib/python3.10/dist-packages (from requests->obspy) (2.2.3)\n",
            "Requirement already satisfied: certifi>=2017.4.17 in /usr/local/lib/python3.10/dist-packages (from requests->obspy) (2024.8.30)\n",
            "Requirement already satisfied: six>=1.5 in /usr/local/lib/python3.10/dist-packages (from python-dateutil>=2.7->matplotlib>=3.3->obspy) (1.16.0)\n"
          ]
        }
      ]
    },
    {
      "cell_type": "code",
      "execution_count": 2,
      "id": "5aed08ff-db7b-48f2-807a-b734b5656ebd",
      "metadata": {
        "id": "5aed08ff-db7b-48f2-807a-b734b5656ebd"
      },
      "outputs": [],
      "source": [
        "# Import libraries\n",
        "import numpy as np\n",
        "import pandas as pd\n",
        "from obspy import read\n",
        "from datetime import datetime, timedelta\n",
        "import matplotlib.pyplot as plt\n",
        "import os"
      ]
    },
    {
      "cell_type": "code",
      "source": [
        "from google.colab import drive\n",
        "drive.mount('/content/drive/')\n",
        "%cd '/content/drive/My Drive/NASA Hackathon'"
      ],
      "metadata": {
        "colab": {
          "base_uri": "https://localhost:8080/"
        },
        "id": "9dZKK-mjTGRg",
        "outputId": "3d40b1a2-fc5e-44e3-9529-ccd4cd0cb00d"
      },
      "id": "9dZKK-mjTGRg",
      "execution_count": 3,
      "outputs": [
        {
          "output_type": "stream",
          "name": "stdout",
          "text": [
            "Drive already mounted at /content/drive/; to attempt to forcibly remount, call drive.mount(\"/content/drive/\", force_remount=True).\n",
            "/content/drive/.shortcut-targets-by-id/1UMmU471yz6-G3Kaj_hpo8AOv1dRT_c5i/NASA Hackathon\n"
          ]
        }
      ]
    },
    {
      "cell_type": "markdown",
      "id": "ad08d22d-bab8-4bcb-b317-f67c3a634a2c",
      "metadata": {
        "id": "ad08d22d-bab8-4bcb-b317-f67c3a634a2c"
      },
      "source": [
        "Let's take a look at the training data for the lunar dataset. In addition to the data itself, we include a catalog that will tell you which events happen when in the data. The catalog includes the name of the file, the absolute time, the relative time in seconds (relative to the start of the file), the event ID (evid), and the type of moonquake. The types of moonquakes include impacts, deep moonquakes, and shallow moonquakes. You do not have to worry about predicting the type of moonquakes, that's just fun information for you to know!\n",
        "\n",
        "**Note**: For your prediction, feel free to include either the absolute time or relative time, just make sure to mark it using the same header in the CSV file so we can easily score it!"
      ]
    },
    {
      "cell_type": "code",
      "execution_count": 4,
      "id": "4f7b59be",
      "metadata": {
        "id": "4f7b59be",
        "colab": {
          "base_uri": "https://localhost:8080/",
          "height": 424
        },
        "outputId": "9085f5c1-8194-452c-8c09-61c1b8c6dd6a"
      },
      "outputs": [
        {
          "output_type": "execute_result",
          "data": {
            "text/plain": [
              "                                  filename time_abs(%Y-%m-%dT%H:%M:%S.%f)  \\\n",
              "0   xa.s12.00.mhz.1970-01-19HR00_evid00002     1970-01-19T20:25:00.000000   \n",
              "1   xa.s12.00.mhz.1970-03-25HR00_evid00003     1970-03-25T03:32:00.000000   \n",
              "2   xa.s12.00.mhz.1970-03-26HR00_evid00004     1970-03-26T20:17:00.000000   \n",
              "3   xa.s12.00.mhz.1970-04-25HR00_evid00006     1970-04-25T01:14:00.000000   \n",
              "4   xa.s12.00.mhz.1970-04-26HR00_evid00007     1970-04-26T14:29:00.000000   \n",
              "..                                     ...                            ...   \n",
              "71  xa.s12.00.mhz.1974-10-14HR00_evid00156     1974-10-14T17:43:00.000000   \n",
              "72  xa.s12.00.mhz.1975-04-12HR00_evid00191     1975-04-12T18:15:00.000000   \n",
              "73  xa.s12.00.mhz.1975-05-04HR00_evid00192     1975-05-04T10:05:00.000000   \n",
              "74  xa.s12.00.mhz.1975-06-24HR00_evid00196     1975-06-24T16:03:00.000000   \n",
              "75  xa.s12.00.mhz.1975-06-26HR00_evid00198     1975-06-26T03:24:00.000000   \n",
              "\n",
              "    time_rel(sec)       evid    mq_type  \n",
              "0         73500.0  evid00002  impact_mq  \n",
              "1         12720.0  evid00003  impact_mq  \n",
              "2         73020.0  evid00004  impact_mq  \n",
              "3          4440.0  evid00006  impact_mq  \n",
              "4         52140.0  evid00007    deep_mq  \n",
              "..            ...        ...        ...  \n",
              "71        63780.0  evid00156  impact_mq  \n",
              "72        65700.0  evid00191  impact_mq  \n",
              "73        36300.0  evid00192  impact_mq  \n",
              "74        57780.0  evid00196  impact_mq  \n",
              "75        12240.0  evid00198  impact_mq  \n",
              "\n",
              "[76 rows x 5 columns]"
            ],
            "text/html": [
              "\n",
              "  <div id=\"df-1b44de77-8eba-4115-85df-0d46702ad719\" class=\"colab-df-container\">\n",
              "    <div>\n",
              "<style scoped>\n",
              "    .dataframe tbody tr th:only-of-type {\n",
              "        vertical-align: middle;\n",
              "    }\n",
              "\n",
              "    .dataframe tbody tr th {\n",
              "        vertical-align: top;\n",
              "    }\n",
              "\n",
              "    .dataframe thead th {\n",
              "        text-align: right;\n",
              "    }\n",
              "</style>\n",
              "<table border=\"1\" class=\"dataframe\">\n",
              "  <thead>\n",
              "    <tr style=\"text-align: right;\">\n",
              "      <th></th>\n",
              "      <th>filename</th>\n",
              "      <th>time_abs(%Y-%m-%dT%H:%M:%S.%f)</th>\n",
              "      <th>time_rel(sec)</th>\n",
              "      <th>evid</th>\n",
              "      <th>mq_type</th>\n",
              "    </tr>\n",
              "  </thead>\n",
              "  <tbody>\n",
              "    <tr>\n",
              "      <th>0</th>\n",
              "      <td>xa.s12.00.mhz.1970-01-19HR00_evid00002</td>\n",
              "      <td>1970-01-19T20:25:00.000000</td>\n",
              "      <td>73500.0</td>\n",
              "      <td>evid00002</td>\n",
              "      <td>impact_mq</td>\n",
              "    </tr>\n",
              "    <tr>\n",
              "      <th>1</th>\n",
              "      <td>xa.s12.00.mhz.1970-03-25HR00_evid00003</td>\n",
              "      <td>1970-03-25T03:32:00.000000</td>\n",
              "      <td>12720.0</td>\n",
              "      <td>evid00003</td>\n",
              "      <td>impact_mq</td>\n",
              "    </tr>\n",
              "    <tr>\n",
              "      <th>2</th>\n",
              "      <td>xa.s12.00.mhz.1970-03-26HR00_evid00004</td>\n",
              "      <td>1970-03-26T20:17:00.000000</td>\n",
              "      <td>73020.0</td>\n",
              "      <td>evid00004</td>\n",
              "      <td>impact_mq</td>\n",
              "    </tr>\n",
              "    <tr>\n",
              "      <th>3</th>\n",
              "      <td>xa.s12.00.mhz.1970-04-25HR00_evid00006</td>\n",
              "      <td>1970-04-25T01:14:00.000000</td>\n",
              "      <td>4440.0</td>\n",
              "      <td>evid00006</td>\n",
              "      <td>impact_mq</td>\n",
              "    </tr>\n",
              "    <tr>\n",
              "      <th>4</th>\n",
              "      <td>xa.s12.00.mhz.1970-04-26HR00_evid00007</td>\n",
              "      <td>1970-04-26T14:29:00.000000</td>\n",
              "      <td>52140.0</td>\n",
              "      <td>evid00007</td>\n",
              "      <td>deep_mq</td>\n",
              "    </tr>\n",
              "    <tr>\n",
              "      <th>...</th>\n",
              "      <td>...</td>\n",
              "      <td>...</td>\n",
              "      <td>...</td>\n",
              "      <td>...</td>\n",
              "      <td>...</td>\n",
              "    </tr>\n",
              "    <tr>\n",
              "      <th>71</th>\n",
              "      <td>xa.s12.00.mhz.1974-10-14HR00_evid00156</td>\n",
              "      <td>1974-10-14T17:43:00.000000</td>\n",
              "      <td>63780.0</td>\n",
              "      <td>evid00156</td>\n",
              "      <td>impact_mq</td>\n",
              "    </tr>\n",
              "    <tr>\n",
              "      <th>72</th>\n",
              "      <td>xa.s12.00.mhz.1975-04-12HR00_evid00191</td>\n",
              "      <td>1975-04-12T18:15:00.000000</td>\n",
              "      <td>65700.0</td>\n",
              "      <td>evid00191</td>\n",
              "      <td>impact_mq</td>\n",
              "    </tr>\n",
              "    <tr>\n",
              "      <th>73</th>\n",
              "      <td>xa.s12.00.mhz.1975-05-04HR00_evid00192</td>\n",
              "      <td>1975-05-04T10:05:00.000000</td>\n",
              "      <td>36300.0</td>\n",
              "      <td>evid00192</td>\n",
              "      <td>impact_mq</td>\n",
              "    </tr>\n",
              "    <tr>\n",
              "      <th>74</th>\n",
              "      <td>xa.s12.00.mhz.1975-06-24HR00_evid00196</td>\n",
              "      <td>1975-06-24T16:03:00.000000</td>\n",
              "      <td>57780.0</td>\n",
              "      <td>evid00196</td>\n",
              "      <td>impact_mq</td>\n",
              "    </tr>\n",
              "    <tr>\n",
              "      <th>75</th>\n",
              "      <td>xa.s12.00.mhz.1975-06-26HR00_evid00198</td>\n",
              "      <td>1975-06-26T03:24:00.000000</td>\n",
              "      <td>12240.0</td>\n",
              "      <td>evid00198</td>\n",
              "      <td>impact_mq</td>\n",
              "    </tr>\n",
              "  </tbody>\n",
              "</table>\n",
              "<p>76 rows × 5 columns</p>\n",
              "</div>\n",
              "    <div class=\"colab-df-buttons\">\n",
              "\n",
              "  <div class=\"colab-df-container\">\n",
              "    <button class=\"colab-df-convert\" onclick=\"convertToInteractive('df-1b44de77-8eba-4115-85df-0d46702ad719')\"\n",
              "            title=\"Convert this dataframe to an interactive table.\"\n",
              "            style=\"display:none;\">\n",
              "\n",
              "  <svg xmlns=\"http://www.w3.org/2000/svg\" height=\"24px\" viewBox=\"0 -960 960 960\">\n",
              "    <path d=\"M120-120v-720h720v720H120Zm60-500h600v-160H180v160Zm220 220h160v-160H400v160Zm0 220h160v-160H400v160ZM180-400h160v-160H180v160Zm440 0h160v-160H620v160ZM180-180h160v-160H180v160Zm440 0h160v-160H620v160Z\"/>\n",
              "  </svg>\n",
              "    </button>\n",
              "\n",
              "  <style>\n",
              "    .colab-df-container {\n",
              "      display:flex;\n",
              "      gap: 12px;\n",
              "    }\n",
              "\n",
              "    .colab-df-convert {\n",
              "      background-color: #E8F0FE;\n",
              "      border: none;\n",
              "      border-radius: 50%;\n",
              "      cursor: pointer;\n",
              "      display: none;\n",
              "      fill: #1967D2;\n",
              "      height: 32px;\n",
              "      padding: 0 0 0 0;\n",
              "      width: 32px;\n",
              "    }\n",
              "\n",
              "    .colab-df-convert:hover {\n",
              "      background-color: #E2EBFA;\n",
              "      box-shadow: 0px 1px 2px rgba(60, 64, 67, 0.3), 0px 1px 3px 1px rgba(60, 64, 67, 0.15);\n",
              "      fill: #174EA6;\n",
              "    }\n",
              "\n",
              "    .colab-df-buttons div {\n",
              "      margin-bottom: 4px;\n",
              "    }\n",
              "\n",
              "    [theme=dark] .colab-df-convert {\n",
              "      background-color: #3B4455;\n",
              "      fill: #D2E3FC;\n",
              "    }\n",
              "\n",
              "    [theme=dark] .colab-df-convert:hover {\n",
              "      background-color: #434B5C;\n",
              "      box-shadow: 0px 1px 3px 1px rgba(0, 0, 0, 0.15);\n",
              "      filter: drop-shadow(0px 1px 2px rgba(0, 0, 0, 0.3));\n",
              "      fill: #FFFFFF;\n",
              "    }\n",
              "  </style>\n",
              "\n",
              "    <script>\n",
              "      const buttonEl =\n",
              "        document.querySelector('#df-1b44de77-8eba-4115-85df-0d46702ad719 button.colab-df-convert');\n",
              "      buttonEl.style.display =\n",
              "        google.colab.kernel.accessAllowed ? 'block' : 'none';\n",
              "\n",
              "      async function convertToInteractive(key) {\n",
              "        const element = document.querySelector('#df-1b44de77-8eba-4115-85df-0d46702ad719');\n",
              "        const dataTable =\n",
              "          await google.colab.kernel.invokeFunction('convertToInteractive',\n",
              "                                                    [key], {});\n",
              "        if (!dataTable) return;\n",
              "\n",
              "        const docLinkHtml = 'Like what you see? Visit the ' +\n",
              "          '<a target=\"_blank\" href=https://colab.research.google.com/notebooks/data_table.ipynb>data table notebook</a>'\n",
              "          + ' to learn more about interactive tables.';\n",
              "        element.innerHTML = '';\n",
              "        dataTable['output_type'] = 'display_data';\n",
              "        await google.colab.output.renderOutput(dataTable, element);\n",
              "        const docLink = document.createElement('div');\n",
              "        docLink.innerHTML = docLinkHtml;\n",
              "        element.appendChild(docLink);\n",
              "      }\n",
              "    </script>\n",
              "  </div>\n",
              "\n",
              "\n",
              "<div id=\"df-a6da68f9-fc76-40b3-9868-4648fb45273c\">\n",
              "  <button class=\"colab-df-quickchart\" onclick=\"quickchart('df-a6da68f9-fc76-40b3-9868-4648fb45273c')\"\n",
              "            title=\"Suggest charts\"\n",
              "            style=\"display:none;\">\n",
              "\n",
              "<svg xmlns=\"http://www.w3.org/2000/svg\" height=\"24px\"viewBox=\"0 0 24 24\"\n",
              "     width=\"24px\">\n",
              "    <g>\n",
              "        <path d=\"M19 3H5c-1.1 0-2 .9-2 2v14c0 1.1.9 2 2 2h14c1.1 0 2-.9 2-2V5c0-1.1-.9-2-2-2zM9 17H7v-7h2v7zm4 0h-2V7h2v10zm4 0h-2v-4h2v4z\"/>\n",
              "    </g>\n",
              "</svg>\n",
              "  </button>\n",
              "\n",
              "<style>\n",
              "  .colab-df-quickchart {\n",
              "      --bg-color: #E8F0FE;\n",
              "      --fill-color: #1967D2;\n",
              "      --hover-bg-color: #E2EBFA;\n",
              "      --hover-fill-color: #174EA6;\n",
              "      --disabled-fill-color: #AAA;\n",
              "      --disabled-bg-color: #DDD;\n",
              "  }\n",
              "\n",
              "  [theme=dark] .colab-df-quickchart {\n",
              "      --bg-color: #3B4455;\n",
              "      --fill-color: #D2E3FC;\n",
              "      --hover-bg-color: #434B5C;\n",
              "      --hover-fill-color: #FFFFFF;\n",
              "      --disabled-bg-color: #3B4455;\n",
              "      --disabled-fill-color: #666;\n",
              "  }\n",
              "\n",
              "  .colab-df-quickchart {\n",
              "    background-color: var(--bg-color);\n",
              "    border: none;\n",
              "    border-radius: 50%;\n",
              "    cursor: pointer;\n",
              "    display: none;\n",
              "    fill: var(--fill-color);\n",
              "    height: 32px;\n",
              "    padding: 0;\n",
              "    width: 32px;\n",
              "  }\n",
              "\n",
              "  .colab-df-quickchart:hover {\n",
              "    background-color: var(--hover-bg-color);\n",
              "    box-shadow: 0 1px 2px rgba(60, 64, 67, 0.3), 0 1px 3px 1px rgba(60, 64, 67, 0.15);\n",
              "    fill: var(--button-hover-fill-color);\n",
              "  }\n",
              "\n",
              "  .colab-df-quickchart-complete:disabled,\n",
              "  .colab-df-quickchart-complete:disabled:hover {\n",
              "    background-color: var(--disabled-bg-color);\n",
              "    fill: var(--disabled-fill-color);\n",
              "    box-shadow: none;\n",
              "  }\n",
              "\n",
              "  .colab-df-spinner {\n",
              "    border: 2px solid var(--fill-color);\n",
              "    border-color: transparent;\n",
              "    border-bottom-color: var(--fill-color);\n",
              "    animation:\n",
              "      spin 1s steps(1) infinite;\n",
              "  }\n",
              "\n",
              "  @keyframes spin {\n",
              "    0% {\n",
              "      border-color: transparent;\n",
              "      border-bottom-color: var(--fill-color);\n",
              "      border-left-color: var(--fill-color);\n",
              "    }\n",
              "    20% {\n",
              "      border-color: transparent;\n",
              "      border-left-color: var(--fill-color);\n",
              "      border-top-color: var(--fill-color);\n",
              "    }\n",
              "    30% {\n",
              "      border-color: transparent;\n",
              "      border-left-color: var(--fill-color);\n",
              "      border-top-color: var(--fill-color);\n",
              "      border-right-color: var(--fill-color);\n",
              "    }\n",
              "    40% {\n",
              "      border-color: transparent;\n",
              "      border-right-color: var(--fill-color);\n",
              "      border-top-color: var(--fill-color);\n",
              "    }\n",
              "    60% {\n",
              "      border-color: transparent;\n",
              "      border-right-color: var(--fill-color);\n",
              "    }\n",
              "    80% {\n",
              "      border-color: transparent;\n",
              "      border-right-color: var(--fill-color);\n",
              "      border-bottom-color: var(--fill-color);\n",
              "    }\n",
              "    90% {\n",
              "      border-color: transparent;\n",
              "      border-bottom-color: var(--fill-color);\n",
              "    }\n",
              "  }\n",
              "</style>\n",
              "\n",
              "  <script>\n",
              "    async function quickchart(key) {\n",
              "      const quickchartButtonEl =\n",
              "        document.querySelector('#' + key + ' button');\n",
              "      quickchartButtonEl.disabled = true;  // To prevent multiple clicks.\n",
              "      quickchartButtonEl.classList.add('colab-df-spinner');\n",
              "      try {\n",
              "        const charts = await google.colab.kernel.invokeFunction(\n",
              "            'suggestCharts', [key], {});\n",
              "      } catch (error) {\n",
              "        console.error('Error during call to suggestCharts:', error);\n",
              "      }\n",
              "      quickchartButtonEl.classList.remove('colab-df-spinner');\n",
              "      quickchartButtonEl.classList.add('colab-df-quickchart-complete');\n",
              "    }\n",
              "    (() => {\n",
              "      let quickchartButtonEl =\n",
              "        document.querySelector('#df-a6da68f9-fc76-40b3-9868-4648fb45273c button');\n",
              "      quickchartButtonEl.style.display =\n",
              "        google.colab.kernel.accessAllowed ? 'block' : 'none';\n",
              "    })();\n",
              "  </script>\n",
              "</div>\n",
              "\n",
              "  <div id=\"id_97d83085-a42f-43ad-a321-35aa56c84615\">\n",
              "    <style>\n",
              "      .colab-df-generate {\n",
              "        background-color: #E8F0FE;\n",
              "        border: none;\n",
              "        border-radius: 50%;\n",
              "        cursor: pointer;\n",
              "        display: none;\n",
              "        fill: #1967D2;\n",
              "        height: 32px;\n",
              "        padding: 0 0 0 0;\n",
              "        width: 32px;\n",
              "      }\n",
              "\n",
              "      .colab-df-generate:hover {\n",
              "        background-color: #E2EBFA;\n",
              "        box-shadow: 0px 1px 2px rgba(60, 64, 67, 0.3), 0px 1px 3px 1px rgba(60, 64, 67, 0.15);\n",
              "        fill: #174EA6;\n",
              "      }\n",
              "\n",
              "      [theme=dark] .colab-df-generate {\n",
              "        background-color: #3B4455;\n",
              "        fill: #D2E3FC;\n",
              "      }\n",
              "\n",
              "      [theme=dark] .colab-df-generate:hover {\n",
              "        background-color: #434B5C;\n",
              "        box-shadow: 0px 1px 3px 1px rgba(0, 0, 0, 0.15);\n",
              "        filter: drop-shadow(0px 1px 2px rgba(0, 0, 0, 0.3));\n",
              "        fill: #FFFFFF;\n",
              "      }\n",
              "    </style>\n",
              "    <button class=\"colab-df-generate\" onclick=\"generateWithVariable('cat')\"\n",
              "            title=\"Generate code using this dataframe.\"\n",
              "            style=\"display:none;\">\n",
              "\n",
              "  <svg xmlns=\"http://www.w3.org/2000/svg\" height=\"24px\"viewBox=\"0 0 24 24\"\n",
              "       width=\"24px\">\n",
              "    <path d=\"M7,19H8.4L18.45,9,17,7.55,7,17.6ZM5,21V16.75L18.45,3.32a2,2,0,0,1,2.83,0l1.4,1.43a1.91,1.91,0,0,1,.58,1.4,1.91,1.91,0,0,1-.58,1.4L9.25,21ZM18.45,9,17,7.55Zm-12,3A5.31,5.31,0,0,0,4.9,8.1,5.31,5.31,0,0,0,1,6.5,5.31,5.31,0,0,0,4.9,4.9,5.31,5.31,0,0,0,6.5,1,5.31,5.31,0,0,0,8.1,4.9,5.31,5.31,0,0,0,12,6.5,5.46,5.46,0,0,0,6.5,12Z\"/>\n",
              "  </svg>\n",
              "    </button>\n",
              "    <script>\n",
              "      (() => {\n",
              "      const buttonEl =\n",
              "        document.querySelector('#id_97d83085-a42f-43ad-a321-35aa56c84615 button.colab-df-generate');\n",
              "      buttonEl.style.display =\n",
              "        google.colab.kernel.accessAllowed ? 'block' : 'none';\n",
              "\n",
              "      buttonEl.onclick = () => {\n",
              "        google.colab.notebook.generateWithVariable('cat');\n",
              "      }\n",
              "      })();\n",
              "    </script>\n",
              "  </div>\n",
              "\n",
              "    </div>\n",
              "  </div>\n"
            ],
            "application/vnd.google.colaboratory.intrinsic+json": {
              "type": "dataframe",
              "variable_name": "cat",
              "summary": "{\n  \"name\": \"cat\",\n  \"rows\": 76,\n  \"fields\": [\n    {\n      \"column\": \"filename\",\n      \"properties\": {\n        \"dtype\": \"string\",\n        \"num_unique_values\": 76,\n        \"samples\": [\n          \"xa.s12.00.mhz.1970-04-26HR00_evid00007\",\n          \"xa.s12.00.mhz.1972-06-16HR00_evid00060\",\n          \"xa.s12.00.mhz.1970-10-24HR00_evid00014\"\n        ],\n        \"semantic_type\": \"\",\n        \"description\": \"\"\n      }\n    },\n    {\n      \"column\": \"time_abs(%Y-%m-%dT%H:%M:%S.%f)\",\n      \"properties\": {\n        \"dtype\": \"object\",\n        \"num_unique_values\": 76,\n        \"samples\": [\n          \"1970-04-26T14:29:00.000000\",\n          \"1972-06-16T16:11:00.000000\",\n          \"1970-10-24T11:31:00.000000\"\n        ],\n        \"semantic_type\": \"\",\n        \"description\": \"\"\n      }\n    },\n    {\n      \"column\": \"time_rel(sec)\",\n      \"properties\": {\n        \"dtype\": \"number\",\n        \"std\": 25254.71008492642,\n        \"min\": 1380.0,\n        \"max\": 84660.0,\n        \"num_unique_values\": 71,\n        \"samples\": [\n          29100.0,\n          73500.0,\n          65700.0\n        ],\n        \"semantic_type\": \"\",\n        \"description\": \"\"\n      }\n    },\n    {\n      \"column\": \"evid\",\n      \"properties\": {\n        \"dtype\": \"string\",\n        \"num_unique_values\": 76,\n        \"samples\": [\n          \"evid00007\",\n          \"evid00060\",\n          \"evid00014\"\n        ],\n        \"semantic_type\": \"\",\n        \"description\": \"\"\n      }\n    },\n    {\n      \"column\": \"mq_type\",\n      \"properties\": {\n        \"dtype\": \"category\",\n        \"num_unique_values\": 3,\n        \"samples\": [\n          \"impact_mq\",\n          \"deep_mq\",\n          \"shallow_mq\"\n        ],\n        \"semantic_type\": \"\",\n        \"description\": \"\"\n      }\n    }\n  ]\n}"
            }
          },
          "metadata": {},
          "execution_count": 4
        }
      ],
      "source": [
        "cat_directory = './seismic_detection/data/lunar/training/catalogs/'\n",
        "cat_file = cat_directory + 'apollo12_catalog_GradeA_final.csv'\n",
        "cat = pd.read_csv(cat_file)\n",
        "cat"
      ]
    },
    {
      "cell_type": "markdown",
      "id": "49408b90",
      "metadata": {
        "id": "49408b90"
      },
      "source": [
        "## Select a detection"
      ]
    },
    {
      "cell_type": "markdown",
      "id": "7d1d115d-a75c-4d0b-a3e9-0ef66f2dc479",
      "metadata": {
        "id": "7d1d115d-a75c-4d0b-a3e9-0ef66f2dc479"
      },
      "source": [
        "Let's pick the first seismic event in the catalog and let's take a look at the absolute time data. The way we show it here is by using pandas `.iloc` and datetime `.strptime`. We are going to keep the format shown in the absolute time header, which is `'%Y-%m-%dT%H:%M:%S.%f'`"
      ]
    },
    {
      "cell_type": "code",
      "execution_count": 5,
      "id": "e23be5d6",
      "metadata": {
        "id": "e23be5d6",
        "colab": {
          "base_uri": "https://localhost:8080/"
        },
        "outputId": "ddb6a748-c808-41cf-d459-5e4a94b56134"
      },
      "outputs": [
        {
          "output_type": "execute_result",
          "data": {
            "text/plain": [
              "datetime.datetime(1974, 7, 6, 14, 14)"
            ]
          },
          "metadata": {},
          "execution_count": 5
        }
      ],
      "source": [
        "row = cat.iloc[68]\n",
        "arrival_time = datetime.strptime(row['time_abs(%Y-%m-%dT%H:%M:%S.%f)'],'%Y-%m-%dT%H:%M:%S.%f')\n",
        "arrival_time"
      ]
    },
    {
      "cell_type": "code",
      "execution_count": 6,
      "id": "81ba2b31-465d-4c50-95de-978b75de2878",
      "metadata": {
        "id": "81ba2b31-465d-4c50-95de-978b75de2878",
        "colab": {
          "base_uri": "https://localhost:8080/"
        },
        "outputId": "5dc6f2a3-a9e3-41e3-b3ad-5c0aa3fe91cc"
      },
      "outputs": [
        {
          "output_type": "execute_result",
          "data": {
            "text/plain": [
              "51240.0"
            ]
          },
          "metadata": {},
          "execution_count": 6
        }
      ],
      "source": [
        "# If we want the value of relative time, we don't need to use datetime\n",
        "arrival_time_rel = row['time_rel(sec)']\n",
        "arrival_time_rel"
      ]
    },
    {
      "cell_type": "code",
      "execution_count": 7,
      "id": "01e9bf2a-c873-43b1-82dd-2d9109ae39b9",
      "metadata": {
        "id": "01e9bf2a-c873-43b1-82dd-2d9109ae39b9",
        "colab": {
          "base_uri": "https://localhost:8080/",
          "height": 35
        },
        "outputId": "d1ef5793-5cea-48c8-e5ea-eb9c6233a497"
      },
      "outputs": [
        {
          "output_type": "execute_result",
          "data": {
            "text/plain": [
              "'xa.s12.00.mhz.1974-07-06HR00_evid00151'"
            ],
            "application/vnd.google.colaboratory.intrinsic+json": {
              "type": "string"
            }
          },
          "metadata": {},
          "execution_count": 7
        }
      ],
      "source": [
        "# Let's also get the name of the file\n",
        "test_filename = row.filename\n",
        "test_filename"
      ]
    },
    {
      "cell_type": "markdown",
      "id": "e686ca29",
      "metadata": {
        "id": "e686ca29"
      },
      "source": [
        "## Read the CSV file corresponding to that detection"
      ]
    },
    {
      "cell_type": "markdown",
      "id": "a076b368-9982-4cad-ab53-06f462927aad",
      "metadata": {
        "id": "a076b368-9982-4cad-ab53-06f462927aad"
      },
      "source": [
        "We will now find the csv data file corresponding to that time and plot it!"
      ]
    },
    {
      "cell_type": "code",
      "execution_count": 8,
      "id": "7e033b67",
      "metadata": {
        "id": "7e033b67",
        "colab": {
          "base_uri": "https://localhost:8080/",
          "height": 424
        },
        "outputId": "e5d95564-4a44-4d31-ecf8-8a5cc716b556"
      },
      "outputs": [
        {
          "output_type": "execute_result",
          "data": {
            "text/plain": [
              "       time_abs(%Y-%m-%dT%H:%M:%S.%f)  time_rel(sec)  velocity(m/s)\n",
              "0          1974-07-06T00:00:00.193000       0.000000  -5.822985e-16\n",
              "1          1974-07-06T00:00:00.343943       0.150943  -6.922769e-16\n",
              "2          1974-07-06T00:00:00.494887       0.301887  -7.255003e-16\n",
              "3          1974-07-06T00:00:00.645830       0.452830  -6.945061e-16\n",
              "4          1974-07-06T00:00:00.796774       0.603774  -6.315960e-16\n",
              "...                               ...            ...            ...\n",
              "572406     1974-07-07T00:00:01.098660   86400.905660  -9.930660e-17\n",
              "572407     1974-07-07T00:00:01.249604   86401.056604  -1.227295e-16\n",
              "572408     1974-07-07T00:00:01.400547   86401.207547  -1.304866e-16\n",
              "572409     1974-07-07T00:00:01.551491   86401.358491  -1.934945e-16\n",
              "572410     1974-07-07T00:00:01.702434   86401.509434  -3.308260e-16\n",
              "\n",
              "[572411 rows x 3 columns]"
            ],
            "text/html": [
              "\n",
              "  <div id=\"df-f4d1271c-704c-4fb4-a23b-5b4b843a44ad\" class=\"colab-df-container\">\n",
              "    <div>\n",
              "<style scoped>\n",
              "    .dataframe tbody tr th:only-of-type {\n",
              "        vertical-align: middle;\n",
              "    }\n",
              "\n",
              "    .dataframe tbody tr th {\n",
              "        vertical-align: top;\n",
              "    }\n",
              "\n",
              "    .dataframe thead th {\n",
              "        text-align: right;\n",
              "    }\n",
              "</style>\n",
              "<table border=\"1\" class=\"dataframe\">\n",
              "  <thead>\n",
              "    <tr style=\"text-align: right;\">\n",
              "      <th></th>\n",
              "      <th>time_abs(%Y-%m-%dT%H:%M:%S.%f)</th>\n",
              "      <th>time_rel(sec)</th>\n",
              "      <th>velocity(m/s)</th>\n",
              "    </tr>\n",
              "  </thead>\n",
              "  <tbody>\n",
              "    <tr>\n",
              "      <th>0</th>\n",
              "      <td>1974-07-06T00:00:00.193000</td>\n",
              "      <td>0.000000</td>\n",
              "      <td>-5.822985e-16</td>\n",
              "    </tr>\n",
              "    <tr>\n",
              "      <th>1</th>\n",
              "      <td>1974-07-06T00:00:00.343943</td>\n",
              "      <td>0.150943</td>\n",
              "      <td>-6.922769e-16</td>\n",
              "    </tr>\n",
              "    <tr>\n",
              "      <th>2</th>\n",
              "      <td>1974-07-06T00:00:00.494887</td>\n",
              "      <td>0.301887</td>\n",
              "      <td>-7.255003e-16</td>\n",
              "    </tr>\n",
              "    <tr>\n",
              "      <th>3</th>\n",
              "      <td>1974-07-06T00:00:00.645830</td>\n",
              "      <td>0.452830</td>\n",
              "      <td>-6.945061e-16</td>\n",
              "    </tr>\n",
              "    <tr>\n",
              "      <th>4</th>\n",
              "      <td>1974-07-06T00:00:00.796774</td>\n",
              "      <td>0.603774</td>\n",
              "      <td>-6.315960e-16</td>\n",
              "    </tr>\n",
              "    <tr>\n",
              "      <th>...</th>\n",
              "      <td>...</td>\n",
              "      <td>...</td>\n",
              "      <td>...</td>\n",
              "    </tr>\n",
              "    <tr>\n",
              "      <th>572406</th>\n",
              "      <td>1974-07-07T00:00:01.098660</td>\n",
              "      <td>86400.905660</td>\n",
              "      <td>-9.930660e-17</td>\n",
              "    </tr>\n",
              "    <tr>\n",
              "      <th>572407</th>\n",
              "      <td>1974-07-07T00:00:01.249604</td>\n",
              "      <td>86401.056604</td>\n",
              "      <td>-1.227295e-16</td>\n",
              "    </tr>\n",
              "    <tr>\n",
              "      <th>572408</th>\n",
              "      <td>1974-07-07T00:00:01.400547</td>\n",
              "      <td>86401.207547</td>\n",
              "      <td>-1.304866e-16</td>\n",
              "    </tr>\n",
              "    <tr>\n",
              "      <th>572409</th>\n",
              "      <td>1974-07-07T00:00:01.551491</td>\n",
              "      <td>86401.358491</td>\n",
              "      <td>-1.934945e-16</td>\n",
              "    </tr>\n",
              "    <tr>\n",
              "      <th>572410</th>\n",
              "      <td>1974-07-07T00:00:01.702434</td>\n",
              "      <td>86401.509434</td>\n",
              "      <td>-3.308260e-16</td>\n",
              "    </tr>\n",
              "  </tbody>\n",
              "</table>\n",
              "<p>572411 rows × 3 columns</p>\n",
              "</div>\n",
              "    <div class=\"colab-df-buttons\">\n",
              "\n",
              "  <div class=\"colab-df-container\">\n",
              "    <button class=\"colab-df-convert\" onclick=\"convertToInteractive('df-f4d1271c-704c-4fb4-a23b-5b4b843a44ad')\"\n",
              "            title=\"Convert this dataframe to an interactive table.\"\n",
              "            style=\"display:none;\">\n",
              "\n",
              "  <svg xmlns=\"http://www.w3.org/2000/svg\" height=\"24px\" viewBox=\"0 -960 960 960\">\n",
              "    <path d=\"M120-120v-720h720v720H120Zm60-500h600v-160H180v160Zm220 220h160v-160H400v160Zm0 220h160v-160H400v160ZM180-400h160v-160H180v160Zm440 0h160v-160H620v160ZM180-180h160v-160H180v160Zm440 0h160v-160H620v160Z\"/>\n",
              "  </svg>\n",
              "    </button>\n",
              "\n",
              "  <style>\n",
              "    .colab-df-container {\n",
              "      display:flex;\n",
              "      gap: 12px;\n",
              "    }\n",
              "\n",
              "    .colab-df-convert {\n",
              "      background-color: #E8F0FE;\n",
              "      border: none;\n",
              "      border-radius: 50%;\n",
              "      cursor: pointer;\n",
              "      display: none;\n",
              "      fill: #1967D2;\n",
              "      height: 32px;\n",
              "      padding: 0 0 0 0;\n",
              "      width: 32px;\n",
              "    }\n",
              "\n",
              "    .colab-df-convert:hover {\n",
              "      background-color: #E2EBFA;\n",
              "      box-shadow: 0px 1px 2px rgba(60, 64, 67, 0.3), 0px 1px 3px 1px rgba(60, 64, 67, 0.15);\n",
              "      fill: #174EA6;\n",
              "    }\n",
              "\n",
              "    .colab-df-buttons div {\n",
              "      margin-bottom: 4px;\n",
              "    }\n",
              "\n",
              "    [theme=dark] .colab-df-convert {\n",
              "      background-color: #3B4455;\n",
              "      fill: #D2E3FC;\n",
              "    }\n",
              "\n",
              "    [theme=dark] .colab-df-convert:hover {\n",
              "      background-color: #434B5C;\n",
              "      box-shadow: 0px 1px 3px 1px rgba(0, 0, 0, 0.15);\n",
              "      filter: drop-shadow(0px 1px 2px rgba(0, 0, 0, 0.3));\n",
              "      fill: #FFFFFF;\n",
              "    }\n",
              "  </style>\n",
              "\n",
              "    <script>\n",
              "      const buttonEl =\n",
              "        document.querySelector('#df-f4d1271c-704c-4fb4-a23b-5b4b843a44ad button.colab-df-convert');\n",
              "      buttonEl.style.display =\n",
              "        google.colab.kernel.accessAllowed ? 'block' : 'none';\n",
              "\n",
              "      async function convertToInteractive(key) {\n",
              "        const element = document.querySelector('#df-f4d1271c-704c-4fb4-a23b-5b4b843a44ad');\n",
              "        const dataTable =\n",
              "          await google.colab.kernel.invokeFunction('convertToInteractive',\n",
              "                                                    [key], {});\n",
              "        if (!dataTable) return;\n",
              "\n",
              "        const docLinkHtml = 'Like what you see? Visit the ' +\n",
              "          '<a target=\"_blank\" href=https://colab.research.google.com/notebooks/data_table.ipynb>data table notebook</a>'\n",
              "          + ' to learn more about interactive tables.';\n",
              "        element.innerHTML = '';\n",
              "        dataTable['output_type'] = 'display_data';\n",
              "        await google.colab.output.renderOutput(dataTable, element);\n",
              "        const docLink = document.createElement('div');\n",
              "        docLink.innerHTML = docLinkHtml;\n",
              "        element.appendChild(docLink);\n",
              "      }\n",
              "    </script>\n",
              "  </div>\n",
              "\n",
              "\n",
              "<div id=\"df-507cc557-7eb3-4da0-af0c-3fb404030ee4\">\n",
              "  <button class=\"colab-df-quickchart\" onclick=\"quickchart('df-507cc557-7eb3-4da0-af0c-3fb404030ee4')\"\n",
              "            title=\"Suggest charts\"\n",
              "            style=\"display:none;\">\n",
              "\n",
              "<svg xmlns=\"http://www.w3.org/2000/svg\" height=\"24px\"viewBox=\"0 0 24 24\"\n",
              "     width=\"24px\">\n",
              "    <g>\n",
              "        <path d=\"M19 3H5c-1.1 0-2 .9-2 2v14c0 1.1.9 2 2 2h14c1.1 0 2-.9 2-2V5c0-1.1-.9-2-2-2zM9 17H7v-7h2v7zm4 0h-2V7h2v10zm4 0h-2v-4h2v4z\"/>\n",
              "    </g>\n",
              "</svg>\n",
              "  </button>\n",
              "\n",
              "<style>\n",
              "  .colab-df-quickchart {\n",
              "      --bg-color: #E8F0FE;\n",
              "      --fill-color: #1967D2;\n",
              "      --hover-bg-color: #E2EBFA;\n",
              "      --hover-fill-color: #174EA6;\n",
              "      --disabled-fill-color: #AAA;\n",
              "      --disabled-bg-color: #DDD;\n",
              "  }\n",
              "\n",
              "  [theme=dark] .colab-df-quickchart {\n",
              "      --bg-color: #3B4455;\n",
              "      --fill-color: #D2E3FC;\n",
              "      --hover-bg-color: #434B5C;\n",
              "      --hover-fill-color: #FFFFFF;\n",
              "      --disabled-bg-color: #3B4455;\n",
              "      --disabled-fill-color: #666;\n",
              "  }\n",
              "\n",
              "  .colab-df-quickchart {\n",
              "    background-color: var(--bg-color);\n",
              "    border: none;\n",
              "    border-radius: 50%;\n",
              "    cursor: pointer;\n",
              "    display: none;\n",
              "    fill: var(--fill-color);\n",
              "    height: 32px;\n",
              "    padding: 0;\n",
              "    width: 32px;\n",
              "  }\n",
              "\n",
              "  .colab-df-quickchart:hover {\n",
              "    background-color: var(--hover-bg-color);\n",
              "    box-shadow: 0 1px 2px rgba(60, 64, 67, 0.3), 0 1px 3px 1px rgba(60, 64, 67, 0.15);\n",
              "    fill: var(--button-hover-fill-color);\n",
              "  }\n",
              "\n",
              "  .colab-df-quickchart-complete:disabled,\n",
              "  .colab-df-quickchart-complete:disabled:hover {\n",
              "    background-color: var(--disabled-bg-color);\n",
              "    fill: var(--disabled-fill-color);\n",
              "    box-shadow: none;\n",
              "  }\n",
              "\n",
              "  .colab-df-spinner {\n",
              "    border: 2px solid var(--fill-color);\n",
              "    border-color: transparent;\n",
              "    border-bottom-color: var(--fill-color);\n",
              "    animation:\n",
              "      spin 1s steps(1) infinite;\n",
              "  }\n",
              "\n",
              "  @keyframes spin {\n",
              "    0% {\n",
              "      border-color: transparent;\n",
              "      border-bottom-color: var(--fill-color);\n",
              "      border-left-color: var(--fill-color);\n",
              "    }\n",
              "    20% {\n",
              "      border-color: transparent;\n",
              "      border-left-color: var(--fill-color);\n",
              "      border-top-color: var(--fill-color);\n",
              "    }\n",
              "    30% {\n",
              "      border-color: transparent;\n",
              "      border-left-color: var(--fill-color);\n",
              "      border-top-color: var(--fill-color);\n",
              "      border-right-color: var(--fill-color);\n",
              "    }\n",
              "    40% {\n",
              "      border-color: transparent;\n",
              "      border-right-color: var(--fill-color);\n",
              "      border-top-color: var(--fill-color);\n",
              "    }\n",
              "    60% {\n",
              "      border-color: transparent;\n",
              "      border-right-color: var(--fill-color);\n",
              "    }\n",
              "    80% {\n",
              "      border-color: transparent;\n",
              "      border-right-color: var(--fill-color);\n",
              "      border-bottom-color: var(--fill-color);\n",
              "    }\n",
              "    90% {\n",
              "      border-color: transparent;\n",
              "      border-bottom-color: var(--fill-color);\n",
              "    }\n",
              "  }\n",
              "</style>\n",
              "\n",
              "  <script>\n",
              "    async function quickchart(key) {\n",
              "      const quickchartButtonEl =\n",
              "        document.querySelector('#' + key + ' button');\n",
              "      quickchartButtonEl.disabled = true;  // To prevent multiple clicks.\n",
              "      quickchartButtonEl.classList.add('colab-df-spinner');\n",
              "      try {\n",
              "        const charts = await google.colab.kernel.invokeFunction(\n",
              "            'suggestCharts', [key], {});\n",
              "      } catch (error) {\n",
              "        console.error('Error during call to suggestCharts:', error);\n",
              "      }\n",
              "      quickchartButtonEl.classList.remove('colab-df-spinner');\n",
              "      quickchartButtonEl.classList.add('colab-df-quickchart-complete');\n",
              "    }\n",
              "    (() => {\n",
              "      let quickchartButtonEl =\n",
              "        document.querySelector('#df-507cc557-7eb3-4da0-af0c-3fb404030ee4 button');\n",
              "      quickchartButtonEl.style.display =\n",
              "        google.colab.kernel.accessAllowed ? 'block' : 'none';\n",
              "    })();\n",
              "  </script>\n",
              "</div>\n",
              "\n",
              "  <div id=\"id_c366a633-1d5d-42c2-a269-f50a1907e579\">\n",
              "    <style>\n",
              "      .colab-df-generate {\n",
              "        background-color: #E8F0FE;\n",
              "        border: none;\n",
              "        border-radius: 50%;\n",
              "        cursor: pointer;\n",
              "        display: none;\n",
              "        fill: #1967D2;\n",
              "        height: 32px;\n",
              "        padding: 0 0 0 0;\n",
              "        width: 32px;\n",
              "      }\n",
              "\n",
              "      .colab-df-generate:hover {\n",
              "        background-color: #E2EBFA;\n",
              "        box-shadow: 0px 1px 2px rgba(60, 64, 67, 0.3), 0px 1px 3px 1px rgba(60, 64, 67, 0.15);\n",
              "        fill: #174EA6;\n",
              "      }\n",
              "\n",
              "      [theme=dark] .colab-df-generate {\n",
              "        background-color: #3B4455;\n",
              "        fill: #D2E3FC;\n",
              "      }\n",
              "\n",
              "      [theme=dark] .colab-df-generate:hover {\n",
              "        background-color: #434B5C;\n",
              "        box-shadow: 0px 1px 3px 1px rgba(0, 0, 0, 0.15);\n",
              "        filter: drop-shadow(0px 1px 2px rgba(0, 0, 0, 0.3));\n",
              "        fill: #FFFFFF;\n",
              "      }\n",
              "    </style>\n",
              "    <button class=\"colab-df-generate\" onclick=\"generateWithVariable('data_cat')\"\n",
              "            title=\"Generate code using this dataframe.\"\n",
              "            style=\"display:none;\">\n",
              "\n",
              "  <svg xmlns=\"http://www.w3.org/2000/svg\" height=\"24px\"viewBox=\"0 0 24 24\"\n",
              "       width=\"24px\">\n",
              "    <path d=\"M7,19H8.4L18.45,9,17,7.55,7,17.6ZM5,21V16.75L18.45,3.32a2,2,0,0,1,2.83,0l1.4,1.43a1.91,1.91,0,0,1,.58,1.4,1.91,1.91,0,0,1-.58,1.4L9.25,21ZM18.45,9,17,7.55Zm-12,3A5.31,5.31,0,0,0,4.9,8.1,5.31,5.31,0,0,0,1,6.5,5.31,5.31,0,0,0,4.9,4.9,5.31,5.31,0,0,0,6.5,1,5.31,5.31,0,0,0,8.1,4.9,5.31,5.31,0,0,0,12,6.5,5.46,5.46,0,0,0,6.5,12Z\"/>\n",
              "  </svg>\n",
              "    </button>\n",
              "    <script>\n",
              "      (() => {\n",
              "      const buttonEl =\n",
              "        document.querySelector('#id_c366a633-1d5d-42c2-a269-f50a1907e579 button.colab-df-generate');\n",
              "      buttonEl.style.display =\n",
              "        google.colab.kernel.accessAllowed ? 'block' : 'none';\n",
              "\n",
              "      buttonEl.onclick = () => {\n",
              "        google.colab.notebook.generateWithVariable('data_cat');\n",
              "      }\n",
              "      })();\n",
              "    </script>\n",
              "  </div>\n",
              "\n",
              "    </div>\n",
              "  </div>\n"
            ],
            "application/vnd.google.colaboratory.intrinsic+json": {
              "type": "dataframe",
              "variable_name": "data_cat"
            }
          },
          "metadata": {},
          "execution_count": 8
        }
      ],
      "source": [
        "data_directory = './seismic_detection/data/lunar/training/data/S12_GradeA/'\n",
        "csv_file = f'{data_directory}{test_filename}.csv'\n",
        "data_cat = pd.read_csv(csv_file)\n",
        "data_cat"
      ]
    },
    {
      "cell_type": "code",
      "execution_count": 8,
      "id": "465d3473",
      "metadata": {
        "id": "465d3473",
        "colab": {
          "base_uri": "https://localhost:8080/",
          "height": 350
        },
        "outputId": "be7bfbb8-5897-4f28-d940-d3987ca23a2f"
      },
      "outputs": [
        {
          "output_type": "execute_result",
          "data": {
            "text/plain": [
              "<matplotlib.legend.Legend at 0x7b6ee8037ee0>"
            ]
          },
          "metadata": {},
          "execution_count": 8
        },
        {
          "output_type": "display_data",
          "data": {
            "text/plain": [
              "<Figure size 1000x300 with 1 Axes>"
            ],
            "image/png": "[encoded data removed]"
          },
          "metadata": {}
        }
      ],
      "source": [
        "# Read in time steps and velocities\n",
        "csv_times = np.array(data_cat['time_rel(sec)'].tolist())\n",
        "csv_data = np.array(data_cat['velocity(m/s)'].tolist())\n",
        "\n",
        "# Plot the trace!\n",
        "fig,ax = plt.subplots(1,1,figsize=(10,3))\n",
        "ax.plot(csv_times,csv_data)\n",
        "\n",
        "# Make the plot pretty\n",
        "ax.set_xlim([min(csv_times),max(csv_times)])\n",
        "ax.set_ylabel('Velocity (m/s)')\n",
        "ax.set_xlabel('Time (s)')\n",
        "ax.set_title(f'{test_filename}', fontweight='bold')\n",
        "\n",
        "# Plot where the arrival time is\n",
        "arrival_line = ax.axvline(x=arrival_time_rel, c='red', label='Rel. Arrival')\n",
        "ax.legend(handles=[arrival_line])"
      ]
    },
    {
      "cell_type": "markdown",
      "id": "68b6174e-ced7-4cad-8c09-9b63890aa12b",
      "metadata": {
        "id": "68b6174e-ced7-4cad-8c09-9b63890aa12b"
      },
      "source": [
        "What if you wanted to plot in absolute time instead? The operations are very similar, just with a little extra datetime. It takes a bit longer, so we recommend working in relative time to start with!"
      ]
    },
    {
      "cell_type": "code",
      "execution_count": 9,
      "id": "80794f96-443e-43e9-8efa-3c86ee0101d2",
      "metadata": {
        "id": "80794f96-443e-43e9-8efa-3c86ee0101d2",
        "colab": {
          "base_uri": "https://localhost:8080/",
          "height": 350
        },
        "outputId": "10d9efd2-d9fb-4924-b3c5-2cee2d85c1df"
      },
      "outputs": [
        {
          "output_type": "execute_result",
          "data": {
            "text/plain": [
              "<matplotlib.legend.Legend at 0x7b6ee8085ff0>"
            ]
          },
          "metadata": {},
          "execution_count": 9
        },
        {
          "output_type": "display_data",
          "data": {
            "text/plain": [
              "<Figure size 1000x300 with 1 Axes>"
            ],
            "image/png": "[encoded data removed]"
          },
          "metadata": {}
        }
      ],
      "source": [
        "# Read in time steps and velocities\n",
        "csv_times_dt = []\n",
        "for absval_str in data_cat['time_abs(%Y-%m-%dT%H:%M:%S.%f)'].values:\n",
        "    csv_times_dt.append(datetime.strptime(absval_str,'%Y-%m-%dT%H:%M:%S.%f'))\n",
        "\n",
        "csv_data = np.array(data_cat['velocity(m/s)'].tolist())\n",
        "\n",
        "# Plot the trace!\n",
        "fig,ax = plt.subplots(1,1,figsize=(10,3))\n",
        "ax.plot(csv_times_dt,csv_data)\n",
        "\n",
        "# Make the plot pretty\n",
        "ax.set_xlim((np.min(csv_times_dt),np.max(csv_times_dt)))\n",
        "ax.set_ylabel('Velocity (m/s)')\n",
        "ax.set_xlabel('Time (month-day hour)')\n",
        "ax.set_title(f'{test_filename}', fontweight='bold')\n",
        "\n",
        "# Plot where the arrival time is\n",
        "arrival_line = ax.axvline(x=arrival_time, c='red', label='Abs. Arrival')\n",
        "ax.legend(handles=[arrival_line])"
      ]
    },
    {
      "cell_type": "markdown",
      "id": "d4f32101",
      "metadata": {
        "id": "d4f32101"
      },
      "source": [
        "### Alternatively: read the miniseed file corresponding to that detection"
      ]
    },
    {
      "cell_type": "markdown",
      "id": "bab68f39-5709-417f-b1e4-b4bc550f5753",
      "metadata": {
        "id": "bab68f39-5709-417f-b1e4-b4bc550f5753"
      },
      "source": [
        "Same procedure as above, just using the miniseed file."
      ]
    },
    {
      "cell_type": "code",
      "execution_count": 9,
      "id": "5c25af2c",
      "metadata": {
        "id": "5c25af2c",
        "colab": {
          "base_uri": "https://localhost:8080/",
          "height": 35
        },
        "outputId": "34445138-0952-444c-c114-84749eb8133a"
      },
      "outputs": [
        {
          "output_type": "execute_result",
          "data": {
            "text/plain": [
              "'xa.s12.00.mhz.1974-07-06HR00_evid00151'"
            ],
            "application/vnd.google.colaboratory.intrinsic+json": {
              "type": "string"
            }
          },
          "metadata": {},
          "execution_count": 9
        }
      ],
      "source": [
        "data_directory = './seismic_detection/data/lunar/training/data/S12_GradeA/'\n",
        "mseed_file = f'{data_directory}{test_filename}.mseed'\n",
        "st = read(mseed_file)\n",
        "# st\n",
        "test_filename"
      ]
    },
    {
      "cell_type": "code",
      "execution_count": 10,
      "id": "1d2bf045-75bb-479a-abe1-48489190242a",
      "metadata": {
        "id": "1d2bf045-75bb-479a-abe1-48489190242a",
        "colab": {
          "base_uri": "https://localhost:8080/"
        },
        "outputId": "c23f12f9-0a9a-4c17-814f-2a5c4068c993"
      },
      "outputs": [
        {
          "output_type": "execute_result",
          "data": {
            "text/plain": [
              "         network: XA\n",
              "         station: S12\n",
              "        location: 00\n",
              "         channel: MHZ\n",
              "       starttime: 1974-07-06T00:00:00.193000Z\n",
              "         endtime: 1974-07-07T00:00:01.702434Z\n",
              "   sampling_rate: 6.625\n",
              "           delta: 0.1509433962264151\n",
              "            npts: 572411\n",
              "           calib: 1.0\n",
              "         _format: MSEED\n",
              "           mseed: AttribDict({'dataquality': 'D', 'number_of_records': 1136, 'encoding': 'FLOAT64', 'byteorder': '>', 'record_length': 4096, 'filesize': 4653056})"
            ]
          },
          "metadata": {},
          "execution_count": 10
        }
      ],
      "source": [
        "# The stream file also contains some useful header information\n",
        "st[0].stats"
      ]
    },
    {
      "cell_type": "code",
      "execution_count": 11,
      "id": "af3b24db",
      "metadata": {
        "id": "af3b24db",
        "colab": {
          "base_uri": "https://localhost:8080/"
        },
        "outputId": "efb95339-fe62-4444-8dc1-9733245c30ab"
      },
      "outputs": [
        {
          "output_type": "execute_result",
          "data": {
            "text/plain": [
              "51239.807"
            ]
          },
          "metadata": {},
          "execution_count": 11
        }
      ],
      "source": [
        "# This is how you get the data and the time, which is in seconds\n",
        "tr = st.traces[0].copy()\n",
        "tr_times = tr.times()\n",
        "tr_data = tr.data\n",
        "\n",
        "# Start time of trace (another way to get the relative arrival time using datetime)\n",
        "starttime = tr.stats.starttime.datetime\n",
        "arrival = (arrival_time - starttime).total_seconds()\n",
        "arrival"
      ]
    },
    {
      "cell_type": "markdown",
      "id": "591e4fbe",
      "metadata": {
        "id": "591e4fbe"
      },
      "source": [
        "### Plot the trace and mark the arrival!"
      ]
    },
    {
      "cell_type": "markdown",
      "id": "4cb8314a-c791-41b7-be49-e46455c2ab22",
      "metadata": {
        "id": "4cb8314a-c791-41b7-be49-e46455c2ab22"
      },
      "source": [
        "Use a similar method to plot the miniseed data and seismic arrival."
      ]
    },
    {
      "cell_type": "code",
      "execution_count": 14,
      "id": "ebcd8eee",
      "metadata": {
        "scrolled": true,
        "id": "ebcd8eee",
        "colab": {
          "base_uri": "https://localhost:8080/",
          "height": 350
        },
        "outputId": "71875e97-b598-4d22-f2b9-d80112955163"
      },
      "outputs": [
        {
          "output_type": "execute_result",
          "data": {
            "text/plain": [
              "Text(0.5, 1.0, 'xa.s12.00.mhz.1973-06-05HR00_evid00108')"
            ]
          },
          "metadata": {},
          "execution_count": 14
        },
        {
          "output_type": "display_data",
          "data": {
            "text/plain": [
              "<Figure size 1000x300 with 1 Axes>"
            ],
            "image/png": "[encoded data removed]"
          },
          "metadata": {}
        }
      ],
      "source": [
        "# Initialize figure\n",
        "fig,ax = plt.subplots(1,1,figsize=(10,3))\n",
        "\n",
        "# Plot trace\n",
        "ax.plot(tr_times,tr_data)\n",
        "\n",
        "# Mark detection\n",
        "ax.axvline(x = arrival, color='red',label='Rel. Arrival')\n",
        "ax.legend(loc='upper left')\n",
        "\n",
        "# Make the plot pretty\n",
        "ax.set_xlim([min(tr_times),max(tr_times)])\n",
        "ax.set_ylabel('Velocity (m/s)')\n",
        "ax.set_xlabel('Time (s)')\n",
        "ax.set_title(f'{test_filename}', fontweight='bold')"
      ]
    },
    {
      "cell_type": "markdown",
      "id": "eaa6219e-dea6-4c3f-9d28-5859c69f4c2d",
      "metadata": {
        "id": "eaa6219e-dea6-4c3f-9d28-5859c69f4c2d"
      },
      "source": [
        "There are multiple ways that we can do the absolute time using datetime, here is a simple way using the `.timedelta` method"
      ]
    },
    {
      "cell_type": "code",
      "execution_count": 15,
      "id": "e28cb25b-5b3e-446a-8814-d84281eb1bb1",
      "metadata": {
        "id": "e28cb25b-5b3e-446a-8814-d84281eb1bb1",
        "colab": {
          "base_uri": "https://localhost:8080/",
          "height": 350
        },
        "outputId": "90777629-5baf-49b6-eedb-4ff730bfd4c5"
      },
      "outputs": [
        {
          "output_type": "execute_result",
          "data": {
            "text/plain": [
              "Text(0.5, 1.0, 'xa.s12.00.mhz.1973-06-05HR00_evid00108')"
            ]
          },
          "metadata": {},
          "execution_count": 15
        },
        {
          "output_type": "display_data",
          "data": {
            "text/plain": [
              "<Figure size 1000x300 with 1 Axes>"
            ],
            "image/png": "[encoded data removed]"
          },
          "metadata": {}
        }
      ],
      "source": [
        "# Create a vector for the absolute time\n",
        "tr_times_dt = []\n",
        "for tr_val in tr_times:\n",
        "    tr_times_dt.append(starttime + timedelta(seconds=tr_val))\n",
        "\n",
        "# Plot the absolute result\n",
        "fig,ax = plt.subplots(1,1,figsize=(10,3))\n",
        "\n",
        "# Plot trace\n",
        "ax.plot(tr_times_dt,tr_data)\n",
        "\n",
        "# Mark detection\n",
        "arrival_line = ax.axvline(x=arrival_time, c='red', label='Abs. Arrival')\n",
        "ax.legend(handles=[arrival_line])\n",
        "\n",
        "# Make the plot pretty\n",
        "ax.set_xlim([min(tr_times_dt),max(tr_times_dt)])\n",
        "ax.set_ylabel('Velocity (m/s)')\n",
        "ax.set_xlabel('Time (s)')\n",
        "ax.set_title(f'{test_filename}', fontweight='bold')\n"
      ]
    },
    {
      "cell_type": "markdown",
      "id": "44d28df9-ecd2-42df-b0be-ee3fd87fad2f",
      "metadata": {
        "id": "44d28df9-ecd2-42df-b0be-ee3fd87fad2f"
      },
      "source": [
        "It's completely up to you whether to work with the CSV file or the miniseed files. We recommend working with the miniseed file as it's a bit faster to run."
      ]
    },
    {
      "cell_type": "markdown",
      "id": "a970ebb9",
      "metadata": {
        "id": "a970ebb9"
      },
      "source": [
        "## Let's filter the trace"
      ]
    },
    {
      "cell_type": "markdown",
      "id": "14d28e0d-5255-4fa9-b0ba-9cd8dbbed342",
      "metadata": {
        "id": "14d28e0d-5255-4fa9-b0ba-9cd8dbbed342"
      },
      "source": [
        "Sometimes, it's useful to filter the trace to bring out particular frequencies. This will change the shape of the data and make it easier to see certain parts of the signal. In this example, we will filter the data using a bandpass filter between 0.01 Hz to 0.5 Hz."
      ]
    },
    {
      "cell_type": "code",
      "execution_count": 16,
      "id": "ed7e1526",
      "metadata": {
        "id": "ed7e1526",
        "colab": {
          "base_uri": "https://localhost:8080/"
        },
        "outputId": "6786b35f-877f-4be8-9850-61be45145568"
      },
      "outputs": [
        {
          "output_type": "execute_result",
          "data": {
            "text/plain": [
              "1 Trace(s) in Stream:\n",
              "XA.S12.00.MHZ | 1973-06-05T00:00:00.300000Z - 1973-06-05T23:59:59.394340Z | 6.6 Hz, 572395 samples"
            ]
          },
          "metadata": {},
          "execution_count": 16
        }
      ],
      "source": [
        "# Set the minimum frequency\n",
        "minfreq = 0.5\n",
        "maxfreq = 1.0\n",
        "\n",
        "# Going to create a separate trace for the filter data\n",
        "st_filt = st.copy()\n",
        "st_filt.filter('bandpass',freqmin=minfreq,freqmax=maxfreq)\n"
      ]
    },
    {
      "cell_type": "code",
      "execution_count": 17,
      "id": "7d0fe643-11cf-4d3e-9022-041350458d89",
      "metadata": {
        "id": "7d0fe643-11cf-4d3e-9022-041350458d89"
      },
      "outputs": [],
      "source": [
        "# To better see the patterns, we will create a spectrogram using the scipy function\n",
        "# It requires the sampling rate, which we can get from the miniseed header as shown a few cells above\n",
        "from scipy import signal\n",
        "from matplotlib import cm\n",
        "tr_filt = st_filt.traces[0].copy()\n",
        "tr_times_filt = tr_filt.times()\n",
        "tr_data_filt = tr_filt.data\n",
        "f, t, sxx = signal.spectrogram(tr_data_filt, tr_filt.stats.sampling_rate)"
      ]
    },
    {
      "cell_type": "code",
      "execution_count": 18,
      "id": "32664fb0-d9e0-4e5a-bc01-7b9d32f0b36f",
      "metadata": {
        "id": "32664fb0-d9e0-4e5a-bc01-7b9d32f0b36f",
        "colab": {
          "base_uri": "https://localhost:8080/",
          "height": 851
        },
        "outputId": "e319a71c-6395-4543-fdfb-84221aaf24bc"
      },
      "outputs": [
        {
          "output_type": "display_data",
          "data": {
            "text/plain": [
              "<Figure size 1000x1000 with 3 Axes>"
            ],
            "image/png": "[encoded data removed]"
          },
          "metadata": {}
        }
      ],
      "source": [
        "# Plot the time series and spectrogram\n",
        "fig = plt.figure(figsize=(10, 10))\n",
        "ax = plt.subplot(2, 1, 1)\n",
        "# Plot trace\n",
        "ax.plot(tr_times_filt,tr_data_filt)\n",
        "\n",
        "# Mark detection\n",
        "ax.axvline(x = arrival, color='red',label='Detection')\n",
        "ax.legend(loc='upper left')\n",
        "\n",
        "# Make the plot pretty\n",
        "ax.set_xlim([min(tr_times_filt),max(tr_times_filt)])\n",
        "ax.set_ylabel('Velocity (m/s)')\n",
        "ax.set_xlabel('Time (s)')\n",
        "\n",
        "ax2 = plt.subplot(2, 1, 2)\n",
        "vals = ax2.pcolormesh(t, f, sxx, cmap=cm.jet, vmax=5e-17)\n",
        "ax2.set_xlim([min(tr_times_filt),max(tr_times_filt)])\n",
        "ax2.set_xlabel(f'Time (Day Hour:Minute)', fontweight='bold')\n",
        "ax2.set_ylabel('Frequency (Hz)', fontweight='bold')\n",
        "ax2.axvline(x=arrival, c='red')\n",
        "cbar = plt.colorbar(vals, orientation='horizontal')\n",
        "cbar.set_label('Power ((m/s)^2/sqrt(Hz))', fontweight='bold')"
      ]
    },
    {
      "cell_type": "markdown",
      "id": "b10d9ddf",
      "metadata": {
        "id": "b10d9ddf"
      },
      "source": [
        "# Sample short-term average / long-term average (STA/LTA) detection algorithm\n",
        "\n",
        "A STA/LTA algorithm moves two time windows of two lengths (one short, one long) across the seismic data. The algorithm calculates the average amplitude in both windows, and calculates the ratio between them. If the data contains an earthquake, then the short-term window containing the earthquake will be much larger than the long-term window -- resulting in a detection."
      ]
    },
    {
      "cell_type": "code",
      "execution_count": null,
      "id": "094d0348",
      "metadata": {
        "scrolled": true,
        "id": "094d0348",
        "outputId": "fd1c4849-819e-4f5e-cbbd-31f6c0796105",
        "colab": {
          "base_uri": "https://localhost:8080/"
        }
      },
      "outputs": [
        {
          "output_type": "execute_result",
          "data": {
            "text/plain": [
              "Text(0, 0.5, 'Characteristic function')"
            ]
          },
          "metadata": {},
          "execution_count": 20
        },
        {
          "output_type": "display_data",
          "data": {
            "text/plain": [
              "<Figure size 1200x300 with 1 Axes>"
            ],
            "image/png": "[encoded data removed]"
          },
          "metadata": {}
        }
      ],
      "source": [
        "from obspy.signal.invsim import cosine_taper\n",
        "from obspy.signal.filter import highpass\n",
        "from obspy.signal.trigger import classic_sta_lta, plot_trigger, trigger_onset\n",
        "\n",
        "# Sampling frequency of our trace\n",
        "df = tr.stats.sampling_rate\n",
        "\n",
        "# How long should the short-term and long-term window be, in seconds?\n",
        "sta_len = 120\n",
        "lta_len = 600\n",
        "\n",
        "# Run Obspy's STA/LTA to obtain a characteristic function\n",
        "# This function basically calculates the ratio of amplitude between the short-term\n",
        "# and long-term windows, moving consecutively in time across the data\n",
        "cft = classic_sta_lta(tr_data, int(sta_len * df), int(lta_len * df))\n",
        "\n",
        "# Plot characteristic function\n",
        "fig,ax = plt.subplots(1,1,figsize=(12,3))\n",
        "ax.plot(tr_times,cft)\n",
        "ax.set_xlim([min(tr_times),max(tr_times)])\n",
        "ax.set_xlabel('Time (s)')\n",
        "ax.set_ylabel('Characteristic function')"
      ]
    },
    {
      "cell_type": "markdown",
      "id": "aa5e1992",
      "metadata": {
        "id": "aa5e1992"
      },
      "source": [
        "Next, we define the values of the characteristic function (i.e. amplitude ratio between short-term and long-term windows) where we flag a seismic detection. These values are called triggers. There are two types of triggers -- \"on\" and \"off\", defined as follows:\n",
        "\n",
        "1. \"on\" : If the characteristic function is above this value, then a seismic event begins.\n",
        "2. \"off\" : If the characteristic function falls below this value (after an \"on\" trigger), than a seismic event ends."
      ]
    },
    {
      "cell_type": "code",
      "execution_count": null,
      "id": "315915f8",
      "metadata": {
        "id": "315915f8",
        "outputId": "36fe2c9a-dc62-4ae6-a321-720afbcd1455",
        "colab": {
          "base_uri": "https://localhost:8080/"
        }
      },
      "outputs": [
        {
          "output_type": "execute_result",
          "data": {
            "text/plain": [
              "<matplotlib.legend.Legend at 0x7bce195c9f30>"
            ]
          },
          "metadata": {},
          "execution_count": 21
        },
        {
          "output_type": "display_data",
          "data": {
            "text/plain": [
              "<Figure size 1200x300 with 1 Axes>"
            ],
            "image/png": "[encoded data removed]"
          },
          "metadata": {}
        }
      ],
      "source": [
        "# Play around with the on and off triggers, based on values in the characteristic function\n",
        "thr_on = 4\n",
        "thr_off = 1.5\n",
        "on_off = np.array(trigger_onset(cft, thr_on, thr_off))\n",
        "# The first column contains the indices where the trigger is turned \"on\".\n",
        "# The second column contains the indices where the trigger is turned \"off\".\n",
        "\n",
        "# Plot on and off triggers\n",
        "fig,ax = plt.subplots(1,1,figsize=(12,3))\n",
        "for i in np.arange(0,len(on_off)):\n",
        "    triggers = on_off[i]\n",
        "    ax.axvline(x = tr_times[triggers[0]], color='red', label='Trig. On')\n",
        "    ax.axvline(x = tr_times[triggers[1]], color='purple', label='Trig. Off')\n",
        "\n",
        "# Plot seismogram\n",
        "ax.plot(tr_times,tr_data)\n",
        "ax.set_xlim([min(tr_times),max(tr_times)])\n",
        "ax.legend()"
      ]
    },
    {
      "cell_type": "markdown",
      "id": "776b281b-911b-424a-8c2d-8ad2e4834da4",
      "metadata": {
        "id": "776b281b-911b-424a-8c2d-8ad2e4834da4"
      },
      "source": [
        "**Note**: You do not have to worry about marking the end of the seismic trace (as you can see, even for us it's not very accurate!). For this challenge, all we care about is the start of the seismic waveform."
      ]
    },
    {
      "cell_type": "markdown",
      "id": "c9241cc8",
      "metadata": {
        "id": "c9241cc8"
      },
      "source": [
        "## Sample detection export into a catalog!\n",
        "There are many ways to do this, but we'll show a way to do it using pandas."
      ]
    },
    {
      "cell_type": "code",
      "execution_count": null,
      "id": "490d0952",
      "metadata": {
        "id": "490d0952",
        "outputId": "05b998a5-f8cc-496f-d902-d65f8cdd1830",
        "colab": {
          "base_uri": "https://localhost:8080/"
        }
      },
      "outputs": [
        {
          "output_type": "execute_result",
          "data": {
            "text/plain": [
              "                                 filename time_abs(%Y-%m-%dT%H:%M:%S.%f)  \\\n",
              "0  xa.s12.00.mhz.1970-06-26HR00_evid00009     1970-06-26T20:03:21.323547   \n",
              "\n",
              "   time_rel(sec)  \n",
              "0   72201.207547  "
            ],
            "text/html": [
              "\n",
              "  <div id=\"df-bf1cd11c-5363-4f13-8a63-6878ee573c48\" class=\"colab-df-container\">\n",
              "    <div>\n",
              "<style scoped>\n",
              "    .dataframe tbody tr th:only-of-type {\n",
              "        vertical-align: middle;\n",
              "    }\n",
              "\n",
              "    .dataframe tbody tr th {\n",
              "        vertical-align: top;\n",
              "    }\n",
              "\n",
              "    .dataframe thead th {\n",
              "        text-align: right;\n",
              "    }\n",
              "</style>\n",
              "<table border=\"1\" class=\"dataframe\">\n",
              "  <thead>\n",
              "    <tr style=\"text-align: right;\">\n",
              "      <th></th>\n",
              "      <th>filename</th>\n",
              "      <th>time_abs(%Y-%m-%dT%H:%M:%S.%f)</th>\n",
              "      <th>time_rel(sec)</th>\n",
              "    </tr>\n",
              "  </thead>\n",
              "  <tbody>\n",
              "    <tr>\n",
              "      <th>0</th>\n",
              "      <td>xa.s12.00.mhz.1970-06-26HR00_evid00009</td>\n",
              "      <td>1970-06-26T20:03:21.323547</td>\n",
              "      <td>72201.207547</td>\n",
              "    </tr>\n",
              "  </tbody>\n",
              "</table>\n",
              "</div>\n",
              "    <div class=\"colab-df-buttons\">\n",
              "\n",
              "  <div class=\"colab-df-container\">\n",
              "    <button class=\"colab-df-convert\" onclick=\"convertToInteractive('df-bf1cd11c-5363-4f13-8a63-6878ee573c48')\"\n",
              "            title=\"Convert this dataframe to an interactive table.\"\n",
              "            style=\"display:none;\">\n",
              "\n",
              "  <svg xmlns=\"http://www.w3.org/2000/svg\" height=\"24px\" viewBox=\"0 -960 960 960\">\n",
              "    <path d=\"M120-120v-720h720v720H120Zm60-500h600v-160H180v160Zm220 220h160v-160H400v160Zm0 220h160v-160H400v160ZM180-400h160v-160H180v160Zm440 0h160v-160H620v160ZM180-180h160v-160H180v160Zm440 0h160v-160H620v160Z\"/>\n",
              "  </svg>\n",
              "    </button>\n",
              "\n",
              "  <style>\n",
              "    .colab-df-container {\n",
              "      display:flex;\n",
              "      gap: 12px;\n",
              "    }\n",
              "\n",
              "    .colab-df-convert {\n",
              "      background-color: #E8F0FE;\n",
              "      border: none;\n",
              "      border-radius: 50%;\n",
              "      cursor: pointer;\n",
              "      display: none;\n",
              "      fill: #1967D2;\n",
              "      height: 32px;\n",
              "      padding: 0 0 0 0;\n",
              "      width: 32px;\n",
              "    }\n",
              "\n",
              "    .colab-df-convert:hover {\n",
              "      background-color: #E2EBFA;\n",
              "      box-shadow: 0px 1px 2px rgba(60, 64, 67, 0.3), 0px 1px 3px 1px rgba(60, 64, 67, 0.15);\n",
              "      fill: #174EA6;\n",
              "    }\n",
              "\n",
              "    .colab-df-buttons div {\n",
              "      margin-bottom: 4px;\n",
              "    }\n",
              "\n",
              "    [theme=dark] .colab-df-convert {\n",
              "      background-color: #3B4455;\n",
              "      fill: #D2E3FC;\n",
              "    }\n",
              "\n",
              "    [theme=dark] .colab-df-convert:hover {\n",
              "      background-color: #434B5C;\n",
              "      box-shadow: 0px 1px 3px 1px rgba(0, 0, 0, 0.15);\n",
              "      filter: drop-shadow(0px 1px 2px rgba(0, 0, 0, 0.3));\n",
              "      fill: #FFFFFF;\n",
              "    }\n",
              "  </style>\n",
              "\n",
              "    <script>\n",
              "      const buttonEl =\n",
              "        document.querySelector('#df-bf1cd11c-5363-4f13-8a63-6878ee573c48 button.colab-df-convert');\n",
              "      buttonEl.style.display =\n",
              "        google.colab.kernel.accessAllowed ? 'block' : 'none';\n",
              "\n",
              "      async function convertToInteractive(key) {\n",
              "        const element = document.querySelector('#df-bf1cd11c-5363-4f13-8a63-6878ee573c48');\n",
              "        const dataTable =\n",
              "          await google.colab.kernel.invokeFunction('convertToInteractive',\n",
              "                                                    [key], {});\n",
              "        if (!dataTable) return;\n",
              "\n",
              "        const docLinkHtml = 'Like what you see? Visit the ' +\n",
              "          '<a target=\"_blank\" href=https://colab.research.google.com/notebooks/data_table.ipynb>data table notebook</a>'\n",
              "          + ' to learn more about interactive tables.';\n",
              "        element.innerHTML = '';\n",
              "        dataTable['output_type'] = 'display_data';\n",
              "        await google.colab.output.renderOutput(dataTable, element);\n",
              "        const docLink = document.createElement('div');\n",
              "        docLink.innerHTML = docLinkHtml;\n",
              "        element.appendChild(docLink);\n",
              "      }\n",
              "    </script>\n",
              "  </div>\n",
              "\n",
              "\n",
              "    </div>\n",
              "  </div>\n"
            ],
            "application/vnd.google.colaboratory.intrinsic+json": {
              "type": "dataframe",
              "variable_name": "detect_df",
              "summary": "{\n  \"name\": \"detect_df\",\n  \"rows\": 1,\n  \"fields\": [\n    {\n      \"column\": \"filename\",\n      \"properties\": {\n        \"dtype\": \"string\",\n        \"num_unique_values\": 1,\n        \"samples\": [\n          \"xa.s12.00.mhz.1970-06-26HR00_evid00009\"\n        ],\n        \"semantic_type\": \"\",\n        \"description\": \"\"\n      }\n    },\n    {\n      \"column\": \"time_abs(%Y-%m-%dT%H:%M:%S.%f)\",\n      \"properties\": {\n        \"dtype\": \"object\",\n        \"num_unique_values\": 1,\n        \"samples\": [\n          \"1970-06-26T20:03:21.323547\"\n        ],\n        \"semantic_type\": \"\",\n        \"description\": \"\"\n      }\n    },\n    {\n      \"column\": \"time_rel(sec)\",\n      \"properties\": {\n        \"dtype\": \"number\",\n        \"std\": null,\n        \"min\": 72201.2075471698,\n        \"max\": 72201.2075471698,\n        \"num_unique_values\": 1,\n        \"samples\": [\n          72201.2075471698\n        ],\n        \"semantic_type\": \"\",\n        \"description\": \"\"\n      }\n    }\n  ]\n}"
            }
          },
          "metadata": {},
          "execution_count": 22
        }
      ],
      "source": [
        "# File name and start time of trace\n",
        "fname = row.filename\n",
        "starttime = tr.stats.starttime.datetime\n",
        "\n",
        "# Iterate through detection times and compile them\n",
        "detection_times = []\n",
        "fnames = []\n",
        "for i in np.arange(0,len(on_off)):\n",
        "    triggers = on_off[i]\n",
        "    on_time = starttime + timedelta(seconds = tr_times[triggers[0]])\n",
        "    on_time_str = datetime.strftime(on_time,'%Y-%m-%dT%H:%M:%S.%f')\n",
        "    detection_times.append(on_time_str)\n",
        "    fnames.append(fname)\n",
        "\n",
        "# Compile dataframe of detections\n",
        "detect_df = pd.DataFrame(data = {'filename':fnames, 'time_abs(%Y-%m-%dT%H:%M:%S.%f)':detection_times, 'time_rel(sec)':tr_times[triggers[0]]})\n",
        "detect_df.head()"
      ]
    },
    {
      "cell_type": "markdown",
      "id": "4b25a395-0a93-4804-8d88-0cd0a1d78681",
      "metadata": {
        "id": "4b25a395-0a93-4804-8d88-0cd0a1d78681"
      },
      "source": [
        "This can then be exported to a csv using:\n",
        "\n",
        "`detect_df.to_csv('output/path/catalog.csv', index=False)`"
      ]
    },
    {
      "cell_type": "markdown",
      "id": "38478a52-6e57-453b-9885-71d05679a841",
      "metadata": {
        "id": "38478a52-6e57-453b-9885-71d05679a841"
      },
      "source": [
        "# Download additional data from Earth-based stations"
      ]
    },
    {
      "cell_type": "markdown",
      "id": "a1cf964b-f01b-4317-bb9b-cc4150b24582",
      "metadata": {
        "id": "a1cf964b-f01b-4317-bb9b-cc4150b24582"
      },
      "source": [
        "You may find that you need to download additional data from Earth stations to supplement your models and algorithms. We recommend that you download any events from IRIS (Incorporated Research Institutations for Seismology).\n",
        "\n",
        "https://www.iris.edu/hq/\n",
        "\n",
        "**Note**: The organization has been recently renamed to SAGE (Seismological Facility for the Advancement of Geoscience), but all the previous links should still work.\n",
        "\n",
        "They maintain and curate data from seismic stations all around the world. There are many different ways to get data from them, but I recommend using the utility *PyWeed*:\n",
        "\n",
        "https://ds.iris.edu/ds/nodes/dmc/software/downloads/pyweed/\n",
        "\n",
        "We can use the utility to select seismic stations and the earthquake data (or **events**) recorded at those stations.\n",
        "\n",
        "<img src=\"https://raw.githubusercontent.com/civilinifr/fc_deeplearning/master/eq_detector_images/station_data_location.png\" alt=\"Drawing\" style=\"width: 1200px;\">\n",
        "\n",
        "For this test case, let's download all of the earthquakes magnitude 3 and above that are within 1 degree distance (approximately 110 km) from a site called PFO (Pinon Flat Observatory) in California. **Location** is a number designating the instrument at a particular site (sites may have multiple instruments), and **channel** is an IRIS code that specifies instrument information.\n",
        "\n",
        "In short, the first latter refers to the samplerate of the instrument (how many data points it records per second), the second to the type of instrument (certain types of seismometers are better at recording nearby earthquakes while others are more suited for distant earthquakes), and the last to the directional component being recored (most seismometers will record motion across two horizontal directions and the vertical). We will pick the channel HHZ, which refers to a (H) high-samplerate (100 samples per second) (H) strong-motion accelerometer (best resolution for nearby strong earthquakes) recording in the (Z) vertical direction. Once you've selected all the earthquakes, you can download the traces.\n",
        "\n",
        "An earthquake is composed of the following types of waves (in order): pressure (P-wave), shear (S-wave), and surface (Rayleigh and Love). For our challenge, we are only interested in identifying the start of the earthquake. The IRIS dataset contains P-wave arrivals (onset of the P-wave at the seismometer) for each earthquake. In order to get noise prior to the earthquake arrival, we pick our data traces to span 101 seconds before to 60 seconds past the P-wave arrival:\n",
        "\n",
        "\n",
        "<img src=\"https://raw.githubusercontent.com/civilinifr/fc_deeplearning/master/eq_detector_images/selected_seismograms.png\" alt=\"Drawing\" style=\"width: 1200px;\">\n",
        "\n",
        "\n",
        "As you can see from the output list, some of the earthquakes don't record any earthquake data (3.4 Ml 2005-08-31) and others have an incorrect P-wave arrival time (4.0 Ml 2005-08-31). Make sure to go through the earthquakes and remove those types of events from the waveform preview prior to download. For output file type, choose miniseed to match the planetary data (SAC is probably fine too, but the file sizes tend to be a bit bigger)."
      ]
    },
    {
      "cell_type": "markdown",
      "id": "13ead268-58bb-43b2-96db-b8236cc7af05",
      "metadata": {
        "id": "13ead268-58bb-43b2-96db-b8236cc7af05"
      },
      "source": [
        "## Thank you very much for being a part of this challenge! Good luck!!!"
      ]
    },
    {
      "cell_type": "markdown",
      "source": [
        "--------- DIVIDER FOR ACTUAL PROJECT -----------------------"
      ],
      "metadata": {
        "id": "L6vpKI8vMOYe"
      },
      "id": "L6vpKI8vMOYe"
    },
    {
      "cell_type": "markdown",
      "source": [
        "# Data Cleaning with SNR"
      ],
      "metadata": {
        "id": "SzbVEXLWMS7o"
      },
      "id": "SzbVEXLWMS7o"
    },
    {
      "cell_type": "markdown",
      "source": [
        "Seismic Signal Frequency Range: Understand the frequency range of seismic events you're trying to capture. Planetary seismic signals often occur at specific frequencies, while noise, like wind, tends to be more prominent at lower frequencies.\n",
        "For example, marsquakes on Mars (InSight mission) are typically detected in the frequency range of 0.1 Hz to 10 Hz, with low-frequency noise due to wind or lander vibrations.\n",
        "\n",
        "**-> to do: figure out frequencies range**"
      ],
      "metadata": {
        "id": "tZvEP7lfNHCO"
      },
      "id": "tZvEP7lfNHCO"
    },
    {
      "cell_type": "code",
      "source": [
        "output_directory = '/content/drive/My Drive/NASA Hackathon/cleaned_data_HPF/'\n"
      ],
      "metadata": {
        "id": "m9gbltfr7243"
      },
      "id": "m9gbltfr7243",
      "execution_count": 12,
      "outputs": []
    },
    {
      "cell_type": "code",
      "source": [
        "import numpy as np\n",
        "from obspy import Stream, Trace, UTCDateTime\n",
        "from scipy import signal\n",
        "import matplotlib.pyplot as plt\n",
        "\n",
        "def highpass_ft_data(st):\n",
        "  # Assuming st is a Stream object with one Trace\n",
        "  # Access the first Trace object and extract its data as a NumPy array\n",
        "  trace = st[0]  # Access the first Trace in the Stream\n",
        "  st_data = trace.data  # Extract the data from the Trace (this is a NumPy array)\n",
        "\n",
        "  # Now st_data contains the seismic data and you can process it\n",
        "  t = np.linspace(0, 1000, len(st_data))  # Time array based on the length of the data\n",
        "\n",
        "  # Design a high-pass Butterworth filter\n",
        "  fs = trace.stats.sampling_rate  # Use the sampling rate from the Trace stats\n",
        "  cutoff = 1  # Cutoff frequency (choose based on seismic data characteristics)\n",
        "  order = 4  # Order of the filter\n",
        "\n",
        "  # Create the filter\n",
        "  sos = signal.butter(order, cutoff, 'hp', fs=fs, output='sos')\n",
        "\n",
        "  # Apply the filter to the data\n",
        "  filtered_data = signal.sosfilt(sos, st_data)\n",
        "\n",
        "  # Create a new Trace for the filtered data\n",
        "  filtered_trace = Trace()\n",
        "  filtered_trace.data = filtered_data\n",
        "  filtered_trace.stats = trace.stats  # Copy the stats from the original Trace\n",
        "  filtered_trace.stats.network = \"FILTERED\"  # Change network code if necessary\n",
        "  filtered_trace.stats.station = \"FILTERED\"  # Change station code if necessary\n",
        "  filtered_trace.stats.location = \"FILTERED\"  # Change location code if necessary\n",
        "  filtered_trace.stats.channel = \"FILTERED\"  # Change channel code if necessary\n",
        "  filtered_trace.stats.starttime = trace.stats.starttime  # Use original start time\n",
        "\n",
        "  # Create a new Stream object\n",
        "  filtered_stream = Stream(traces=[filtered_trace])\n",
        "\n",
        "  # Save the filtered Stream as a MiniSEED file\n",
        "  filtered_stream.write(\"filtered_data.mseed\", format='MSEED')\n",
        "  return filtered_stream\n"
      ],
      "metadata": {
        "id": "nXsf25USMwZy"
      },
      "id": "nXsf25USMwZy",
      "execution_count": 13,
      "outputs": []
    },
    {
      "cell_type": "code",
      "source": [
        "# To better see the patterns, we will create a spectrogram using the scipy function\n",
        "# It requires the sampling rate, which we can get from the miniseed header as shown a few cells above\n",
        "from scipy import signal\n",
        "from matplotlib import cm\n",
        "\n",
        "def plot_spectrogram(filtered_stream, name):\n",
        "  tr_filt = filtered_stream.traces[0].copy()\n",
        "  tr_times_filt = tr_filt.times()\n",
        "  tr_data_filt = tr_filt.data\n",
        "  f, tx, sxx = signal.spectrogram(tr_data_filt, tr_filt.stats.sampling_rate)\n",
        "\n",
        "  # Plot the time series and spectrogram\n",
        "  fig = plt.figure(figsize=(10, 10))\n",
        "  ax = plt.subplot(2, 1, 1)\n",
        "  # Plot trace\n",
        "  ax.plot(tr_times_filt,tr_data_filt)\n",
        "\n",
        "  # Mark detection\n",
        "  # ax.axvline(x = arrival, color='red',label='Detection')\n",
        "  # ax.legend(loc='upper left')\n",
        "\n",
        "  # # Make the plot pretty\n",
        "  # ax.set_xlim([min(tr_times_filt),max(tr_times_filt)])\n",
        "  # ax.set_ylabel('Velocity (m/s)')\n",
        "  # ax.set_xlabel('Time (s)')\n",
        "\n",
        "  ax2 = plt.subplot(2, 1, 2)\n",
        "  vals = ax2.pcolormesh(tx, f, sxx, cmap=cm.jet, vmax=5e-17)\n",
        "  ax2.set_xlim([min(tr_times_filt),max(tr_times_filt)])\n",
        "  ax2.set_xlabel(f'Time (Day Hour:Minute)', fontweight='bold')\n",
        "  ax2.set_ylabel('Frequency (Hz)', fontweight='bold')\n",
        "  ax2.axvline(x=arrival, c='red')\n",
        "  cbar = plt.colorbar(vals, orientation='horizontal')\n",
        "  cbar.set_label('Power ((m/s)^2/sqrt(Hz))', fontweight='bold')\n",
        "\n",
        "  # plt.savefig(f'{output_directory}{name}_spectrogram.png')  # Save the figure\n",
        "  # plt.close()\n",
        "\n"
      ],
      "metadata": {
        "id": "JK2U8JBryX0Y"
      },
      "id": "JK2U8JBryX0Y",
      "execution_count": 14,
      "outputs": []
    },
    {
      "cell_type": "code",
      "execution_count": 15,
      "metadata": {
        "id": "pcSOSKSdrCiO"
      },
      "outputs": [],
      "source": [
        "# def plot_seismic_signal(st, name):\n",
        "#   trace = st[0]\n",
        "#   data = trace.data\n",
        "#   sampling_rate = trace.stats.sampling_rate\n",
        "\n",
        "#   # Create a time axis\n",
        "#   time = np.linspace(0, len(data) / sampling_rate, num=len(data))\n",
        "\n",
        "#   # Plot the seismic signal in the time domain\n",
        "#   plt.figure(figsize=(10, 6))\n",
        "#   plt.plot(time, data, color='blue')\n",
        "#   plt.title(\"Seismic Signal in the Time Domain\")\n",
        "#   plt.xlabel(\"Time (s)\")\n",
        "#   plt.ylabel(\"Amplitude\")\n",
        "#   plt.grid(True)\n",
        "#   plt.show()\n",
        "\n",
        "#   # Plot the spectrogram\n",
        "#   plt.figure(figsize=(10, 6))\n",
        "#   plt.specgram(data, NFFT=1024, Fs=sampling_rate, noverlap=512, cmap='jet')\n",
        "#   plt.title(\"Spectrogram of the Seismic Signal\")\n",
        "#   plt.xlabel(\"Time (s)\")\n",
        "#   plt.ylabel(\"Frequency (Hz)\")\n",
        "#   plt.colorbar(label=\"Power/Frequency (dB/Hz)\")\n",
        "#   plt.show()\n",
        "\n",
        "\n",
        "#   # plt.savefig(f'{output_directory}{name}.png')  # Save the figure\n",
        "#   # plt.close()\n",
        "def plot_filtered_signal_with_clusters(st):\n",
        "    # Apply the high-pass filter\n",
        "    filtered_stream = highpass_ft_data(st)\n",
        "    trace = filtered_stream[0]\n",
        "    filtered_data = trace.data\n",
        "    fs = trace.stats.sampling_rate\n",
        "\n",
        "    # Create a time axis for plotting\n",
        "    time = np.linspace(0, len(filtered_data) / fs, num=len(filtered_data))\n",
        "\n",
        "    # Plot the filtered seismic signal in the time domain\n",
        "    plt.figure(figsize=(10, 6))\n",
        "    plt.plot(time, filtered_data, label=\"Filtered Signal\", color='blue')\n",
        "    plt.title(\"Filtered Seismic Signal with Frequency Clusters\")\n",
        "    plt.xlabel(\"Time (s)\")\n",
        "    plt.ylabel(\"Amplitude\")\n",
        "    plt.grid(True)\n",
        "\n",
        "    # Calculate the spectrogram of the filtered data\n",
        "    f, t, Sxx = signal.spectrogram(filtered_data, fs=fs, nperseg=1024, noverlap=512)\n",
        "\n",
        "    # Identify clusters where frequency < 200 Hz\n",
        "    freq_threshold = 200\n",
        "    low_freq_mask = f < freq_threshold\n",
        "    low_freq_times = t[np.any(Sxx[low_freq_mask, :] > 0, axis=0)]\n",
        "\n",
        "    # Mark these low-frequency clusters on the filtered signal plot\n",
        "    #for lt in low_freq_times:\n",
        "    #    plt.axvline(x=lt, color='red', linestyle='--', label='Cluster < 200 Hz')\n",
        "\n",
        "    # Prevent duplicate labels in the legend\n",
        "    handles, labels = plt.gca().get_legend_handles_labels()\n",
        "    by_label = dict(zip(labels, handles))\n",
        "    plt.legend(by_label.values(), by_label.keys())\n",
        "\n",
        "    plt.show()\n",
        "\n",
        "    # Plot the spectrogram separately\n",
        "    plt.figure(figsize=(10, 6))\n",
        "    plt.specgram(filtered_data, NFFT=1024, Fs=fs, noverlap=512, cmap='jet')\n",
        "    plt.title(\"Spectrogram of Filtered Seismic Signal\")\n",
        "    plt.xlabel(\"Time (s)\")\n",
        "    plt.ylabel(\"Frequency (Hz)\")\n",
        "    plt.colorbar(label=\"Power/Frequency (dB/Hz)\")\n",
        "    plt.show()\n",
        "\n",
        "# Example usage\n",
        "# Assuming `st` is a Stream object with seismic data\n",
        "# st = ...  # Load your Stream object here\n",
        "# plot_filtered_signal_with_clusters(st)"
      ],
      "id": "pcSOSKSdrCiO"
    },
    {
      "cell_type": "code",
      "execution_count": 16,
      "metadata": {
        "id": "k-ZMQCSCmtwD"
      },
      "outputs": [],
      "source": [
        "# def plot_seismic_signal(st, name):\n",
        "#   trace = st[0]\n",
        "#   data = trace.data\n",
        "#   sampling_rate = trace.stats.sampling_rate\n",
        "\n",
        "#   # Create a time axis\n",
        "#   time = np.linspace(0, len(data) / sampling_rate, num=len(data))\n",
        "\n",
        "#   # Plot the seismic signal in the time domain\n",
        "#   plt.figure(figsize=(10, 6))\n",
        "#   plt.plot(time, data, color='blue')\n",
        "#   plt.title(\"Seismic Signal in the Time Domain\")\n",
        "#   plt.xlabel(\"Time (s)\")\n",
        "#   plt.ylabel(\"Amplitude\")\n",
        "#   plt.grid(True)\n",
        "#   plt.show()\n",
        "\n",
        "#   # Plot the spectrogram\n",
        "#   plt.figure(figsize=(10, 6))\n",
        "#   plt.specgram(data, NFFT=1024, Fs=sampling_rate, noverlap=512, cmap='jet')\n",
        "#   plt.title(\"Spectrogram of the Seismic Signal\")\n",
        "#   plt.xlabel(\"Time (s)\")\n",
        "#   plt.ylabel(\"Frequency (Hz)\")\n",
        "#   plt.colorbar(label=\"Power/Frequency (dB/Hz)\")\n",
        "#   plt.show()\n",
        "\n",
        "\n",
        "#   # plt.savefig(f'{output_directory}{name}.png')  # Save the figure\n",
        "#   # plt.close()\n",
        "def plot_filtered_signal_with_clusters(st):\n",
        "    # Apply the high-pass filter\n",
        "    filtered_stream = highpass_ft_data(st)\n",
        "    trace = filtered_stream[0]\n",
        "    filtered_data = trace.data\n",
        "    fs = trace.stats.sampling_rate\n",
        "\n",
        "    # Create a time axis for plotting\n",
        "    time = np.linspace(0, len(filtered_data) / fs, num=len(filtered_data))\n",
        "\n",
        "    # Plot the filtered seismic signal in the time domain\n",
        "    plt.figure(figsize=(10, 6))\n",
        "    plt.plot(time, filtered_data, label=\"Filtered Signal\", color='blue')\n",
        "    plt.title(\"Filtered Seismic Signal with Frequency Clusters\")\n",
        "    plt.xlabel(\"Time (s)\")\n",
        "    plt.ylabel(\"Amplitude\")\n",
        "    plt.grid(True)\n",
        "\n",
        "    # Calculate the spectrogram of the filtered data\n",
        "    f, t, Sxx = signal.spectrogram(filtered_data, fs=fs, nperseg=1024, noverlap=512)\n",
        "\n",
        "    # Identify clusters where frequency < 200 Hz\n",
        "    freq_threshold = 200\n",
        "    low_freq_mask = f < freq_threshold\n",
        "    low_freq_times = t[np.any(Sxx[low_freq_mask, :] > 0, axis=0)]\n",
        "\n",
        "    # Mark these low-frequency clusters on the filtered signal plot\n",
        "    for lt in low_freq_times:\n",
        "        plt.axvline(x=lt, color='red', linestyle='solid', label='Cluster < 200 Hz')\n",
        "\n",
        "    # Prevent duplicate labels in the legend\n",
        "    handles, labels = plt.gca().get_legend_handles_labels()\n",
        "    by_label = dict(zip(labels, handles))\n",
        "    plt.legend(by_label.values(), by_label.keys())\n",
        "\n",
        "    plt.show()\n",
        "\n",
        "    # Plot the spectrogram separately\n",
        "    plt.figure(figsize=(10, 6))\n",
        "    plt.specgram(filtered_data, NFFT=1024, Fs=fs, noverlap=512, cmap='jet')\n",
        "    plt.title(\"Spectrogram of Filtered Seismic Signal\")\n",
        "    plt.xlabel(\"Time (s)\")\n",
        "    plt.ylabel(\"Frequency (Hz)\")\n",
        "    plt.colorbar(label=\"Power/Frequency (dB/Hz)\")\n",
        "    plt.show()\n",
        "\n",
        "# Example usage\n",
        "# Assuming `st` is a Stream object with seismic data\n",
        "# st = ...  # Load your Stream object here\n",
        "# plot_filtered_signal_with_clusters(st)"
      ],
      "id": "k-ZMQCSCmtwD"
    },
    {
      "cell_type": "code",
      "source": [
        "# prompt: create an analyze spectrogram function that takes in a spectrogram, logs it, and then returns a list of time stamps with high power values\n",
        "\n",
        "import numpy as np\n",
        "\n",
        "def analyze_spectrogram(spectrogram, threshold=0.95, time_axis=None):\n",
        "  \"\"\"Analyzes a spectrogram to find time stamps with high power values.\n",
        "\n",
        "  Args:\n",
        "    spectrogram: A 2D numpy array representing the spectrogram.\n",
        "    threshold: The threshold for considering a power value as high (0.0-1.0).\n",
        "    time_axis: (Optional) The time axis corresponding to the spectrogram.\n",
        "\n",
        "  Returns:\n",
        "    A list of time stamps (or indices if time_axis is not provided)\n",
        "    where high power values are detected.\n",
        "  \"\"\"\n",
        "\n",
        "  # Log the spectrogram\n",
        "  #log_spectrogram = np.log(spectrogram + 1e-10)  # Add a small value to avoid log(0)\n",
        "  #print(spectrogram)\n",
        "\n",
        "  # Find the maximum power value for each time point\n",
        "  max_power_per_time = np.max(spectrogram, axis=0)\n",
        "\n",
        "  # Find indices where the power exceeds the threshold\n",
        "  high_power_indices = np.where(max_power_per_time > np.percentile(max_power_per_time, (1 - threshold) * 100))[0]\n",
        "\n",
        "  if time_axis is not None:\n",
        "    # Return corresponding time stamps\n",
        "    high_power_times = [time_axis[i] for i in high_power_indices]\n",
        "    return high_power_times\n",
        "  else:\n",
        "    # Return indices if time_axis is not provided\n",
        "    return high_power_indices\n"
      ],
      "metadata": {
        "id": "n1DqW0PdEu8Q"
      },
      "id": "n1DqW0PdEu8Q",
      "execution_count": 18,
      "outputs": []
    },
    {
      "cell_type": "code",
      "source": [
        "# prompt: generate spectrogram graph marking the time corresponding to the largest power/frequency value with solid red line on the filtered seismic signal graph\n",
        "\n",
        "import numpy as np\n",
        "import pandas as pd\n",
        "from obspy import read\n",
        "from datetime import datetime, timedelta\n",
        "import matplotlib.pyplot as plt\n",
        "import os\n",
        "from google.colab import drive\n",
        "from scipy import signal\n",
        "from matplotlib import cm\n",
        "from obspy.signal.invsim import cosine_taper\n",
        "from obspy.signal.filter import highpass\n",
        "from obspy.signal.trigger import classic_sta_lta, plot_trigger, trigger_onset\n",
        "from obspy import Stream, Trace, UTCDateTime\n",
        "\n",
        "# Assuming you have a filtered_stream object containing the filtered seismic data\n",
        "def plot_filtered_signal_with_spectrogram(filtered_stream, name):\n",
        "    tr_filt = filtered_stream.traces[0].copy()\n",
        "    tr_times_filt = tr_filt.times()\n",
        "    tr_data_filt = tr_filt.data\n",
        "    fs = tr_filt.stats.sampling_rate\n",
        "\n",
        "    # Calculate the spectrogram\n",
        "    f, t, Sxx = signal.spectrogram(tr_data_filt, fs=fs, nperseg=1024, noverlap=512)\n",
        "\n",
        "    # Find the time corresponding to the maximum power/frequency value\n",
        "    '''\n",
        "    max_power_index = np.argmax(Sxx)\n",
        "    max_freq_index = max_power_index // Sxx.shape[1]\n",
        "    max_time_index = max_power_index % Sxx.shape[1]\n",
        "    max_time = t[max_time_index] - 661\n",
        "    '''\n",
        "    time_stamp_indices = analyze_spectrogram(Sxx, 0.02, t)\n",
        "    #print(time_stamp_indices)\n",
        "\n",
        "    # Plot the time series and spectrogram\n",
        "    fig = plt.figure(figsize=(10, 10))\n",
        "    ax = plt.subplot(2, 1, 1)\n",
        "    # Plot trace\n",
        "    ax.plot(tr_times_filt, tr_data_filt)\n",
        "\n",
        "    # Mark the time corresponding to the largest power/frequency value with a solid pink line\n",
        "    for max_time in time_stamp_indices:\n",
        "      ax.axvline(x=max_time, c='red', linestyle='solid')\n",
        "\n",
        "\n",
        "    ax2 = plt.subplot(2, 1, 2)\n",
        "    vals = ax2.pcolormesh(t, f, Sxx, cmap=cm.jet)\n",
        "    ax2.set_xlabel(f'Time (s)', fontweight='bold')\n",
        "    ax2.set_ylabel('Frequency (Hz)', fontweight='bold')\n",
        "    # Mark the time corresponding to the largest power/frequency value with a solid red line\n",
        "    for max_time in time_stamp_indices:\n",
        "      ax2.axvline(x=max_time, c='red', linestyle='solid')\n",
        "    cbar = plt.colorbar(vals, orientation='horizontal')\n",
        "    cbar.set_label('Power ((m/s)^2/sqrt(Hz))', fontweight='bold')\n",
        "    #plt.show()\n",
        "    plt.savefig(f'{output_directory}{name}.png')  # Save the figure\n",
        "    plt.close()\n"
      ],
      "metadata": {
        "id": "6f5oa_iBn3Wd"
      },
      "id": "6f5oa_iBn3Wd",
      "execution_count": 19,
      "outputs": []
    },
    {
      "cell_type": "markdown",
      "source": [],
      "metadata": {
        "id": "fZ9u7NgpqiSc"
      },
      "id": "fZ9u7NgpqiSc"
    },
    {
      "cell_type": "code",
      "source": [
        "\n",
        "for filename in os.listdir(data_directory):\n",
        "    if filename.endswith('.mseed'):\n",
        "        mseed_file = os.path.join(data_directory, filename)\n",
        "        print(mseed_file)\n",
        "        st = read(mseed_file)  # Read the seismic data\n",
        "\n",
        "        # Apply high-pass filter\n",
        "        filtered_stream = highpass_ft_data(st)\n",
        "\n",
        "        # Plot and save the figures\n",
        "        plot_filtered_signal_with_spectrogram(filtered_stream, filename)\n",
        "        # plot_spectrogram(filtered_stream, filename)\n",
        "\n",
        "#  Apply high-pass filter\n",
        "#filtered_stream = highpass_ft_data(st)\n",
        "\n",
        "# Plot and save the figures\n",
        "#plot_filtered_signal_with_clusters(filtered_stream)\n",
        "#plot_filtered_signal_with_spectrogram(filtered_stream, \"?\")"
      ],
      "metadata": {
        "colab": {
          "base_uri": "https://localhost:8080/"
        },
        "id": "gSlPvTEO5Ji-",
        "outputId": "1e57d24e-e353-43ec-f281-2a8df3afedcf"
      },
      "id": "gSlPvTEO5Ji-",
      "execution_count": 20,
      "outputs": [
        {
          "output_type": "stream",
          "name": "stdout",
          "text": [
            "./seismic_detection/data/lunar/training/data/S12_GradeA/xa.s12.00.mhz.1970-03-26HR00_evid00004.mseed\n",
            "./seismic_detection/data/lunar/training/data/S12_GradeA/xa.s12.00.mhz.1970-01-19HR00_evid00002.mseed\n",
            "./seismic_detection/data/lunar/training/data/S12_GradeA/xa.s12.00.mhz.1970-03-25HR00_evid00003.mseed\n",
            "./seismic_detection/data/lunar/training/data/S12_GradeA/xa.s12.00.mhz.1970-04-26HR00_evid00007.mseed\n",
            "./seismic_detection/data/lunar/training/data/S12_GradeA/xa.s12.00.mhz.1970-06-15HR00_evid00008.mseed\n",
            "./seismic_detection/data/lunar/training/data/S12_GradeA/xa.s12.00.mhz.1970-04-25HR00_evid00006.mseed\n",
            "./seismic_detection/data/lunar/training/data/S12_GradeA/xa.s12.00.mhz.1970-06-26HR00_evid00009.mseed\n",
            "./seismic_detection/data/lunar/training/data/S12_GradeA/xa.s12.00.mhz.1970-07-20HR00_evid00010.mseed\n",
            "./seismic_detection/data/lunar/training/data/S12_GradeA/xa.s12.00.mhz.1970-07-20HR00_evid00011.mseed\n",
            "./seismic_detection/data/lunar/training/data/S12_GradeA/xa.s12.00.mhz.1970-11-12HR00_evid00015.mseed\n",
            "./seismic_detection/data/lunar/training/data/S12_GradeA/xa.s12.00.mhz.1970-10-24HR00_evid00014.mseed\n",
            "./seismic_detection/data/lunar/training/data/S12_GradeA/xa.s12.00.mhz.1970-09-26HR00_evid00013.mseed\n",
            "./seismic_detection/data/lunar/training/data/S12_GradeA/xa.s12.00.mhz.1970-12-11HR00_evid00017.mseed\n",
            "./seismic_detection/data/lunar/training/data/S12_GradeA/xa.s12.00.mhz.1970-12-27HR00_evid00019.mseed\n",
            "./seismic_detection/data/lunar/training/data/S12_GradeA/xa.s12.00.mhz.1971-01-15HR00_evid00022.mseed\n",
            "./seismic_detection/data/lunar/training/data/S12_GradeA/xa.s12.00.mhz.1971-01-28HR00_evid00023.mseed\n",
            "./seismic_detection/data/lunar/training/data/S12_GradeA/xa.s12.00.mhz.1970-12-31HR00_evid00021.mseed\n",
            "./seismic_detection/data/lunar/training/data/S12_GradeA/xa.s12.00.mhz.1971-01-29HR00_evid00024.mseed\n",
            "./seismic_detection/data/lunar/training/data/S12_GradeA/xa.s12.00.mhz.1971-04-13HR02_evid00029.mseed\n",
            "./seismic_detection/data/lunar/training/data/S12_GradeA/xa.s12.00.mhz.1971-02-09HR00_evid00026.mseed\n",
            "./seismic_detection/data/lunar/training/data/S12_GradeA/xa.s12.00.mhz.1971-03-25HR00_evid00028.mseed\n",
            "./seismic_detection/data/lunar/training/data/S12_GradeA/xa.s12.00.mhz.1971-04-17HR00_evid00030.mseed\n",
            "./seismic_detection/data/lunar/training/data/S12_GradeA/xa.s12.00.mhz.1971-05-12HR00_evid00031.mseed\n",
            "./seismic_detection/data/lunar/training/data/S12_GradeA/xa.s12.00.mhz.1971-05-12HR00_evid00032.mseed\n",
            "./seismic_detection/data/lunar/training/data/S12_GradeA/xa.s12.00.mhz.1971-05-13HR00_evid00033.mseed\n",
            "./seismic_detection/data/lunar/training/data/S12_GradeA/xa.s12.00.mhz.1971-05-23HR00_evid00034.mseed\n",
            "./seismic_detection/data/lunar/training/data/S12_GradeA/xa.s12.00.mhz.1971-06-12HR00_evid00035.mseed\n",
            "./seismic_detection/data/lunar/training/data/S12_GradeA/xa.s12.00.mhz.1971-09-25HR00_evid00042.mseed\n",
            "./seismic_detection/data/lunar/training/data/S12_GradeA/xa.s12.00.mhz.1971-10-18HR00_evid00043.mseed\n",
            "./seismic_detection/data/lunar/training/data/S12_GradeA/xa.s12.00.mhz.1971-10-20HR00_evid00044.mseed\n",
            "./seismic_detection/data/lunar/training/data/S12_GradeA/xa.s12.00.mhz.1971-10-31HR00_evid00045.mseed\n",
            "./seismic_detection/data/lunar/training/data/S12_GradeA/xa.s12.00.mhz.1971-11-14HR00_evid00046.mseed\n",
            "./seismic_detection/data/lunar/training/data/S12_GradeA/xa.s12.00.mhz.1972-01-04HR00_evid00049.mseed\n",
            "./seismic_detection/data/lunar/training/data/S12_GradeA/xa.s12.00.mhz.1972-03-12HR00_evid00052.mseed\n",
            "./seismic_detection/data/lunar/training/data/S12_GradeA/xa.s12.00.mhz.1972-05-11HR00_evid00055.mseed\n",
            "./seismic_detection/data/lunar/training/data/S12_GradeA/xa.s12.00.mhz.1972-06-16HR00_evid00060.mseed\n",
            "./seismic_detection/data/lunar/training/data/S12_GradeA/xa.s12.00.mhz.1972-07-17HR00_evid00067.mseed\n",
            "./seismic_detection/data/lunar/training/data/S12_GradeA/xa.s12.00.mhz.1972-07-17HR00_evid00068.mseed\n",
            "./seismic_detection/data/lunar/training/data/S12_GradeA/xa.s12.00.mhz.1972-07-28HR00_evid00070.mseed\n",
            "./seismic_detection/data/lunar/training/data/S12_GradeA/xa.s12.00.mhz.1972-07-31HR00_evid00071.mseed\n",
            "./seismic_detection/data/lunar/training/data/S12_GradeA/xa.s12.00.mhz.1972-12-02HR00_evid00083.mseed\n",
            "./seismic_detection/data/lunar/training/data/S12_GradeA/xa.s12.00.mhz.1972-12-03HR00_evid00084.mseed\n",
            "./seismic_detection/data/lunar/training/data/S12_GradeA/xa.s12.00.mhz.1973-01-18HR00_evid00088.mseed\n",
            "./seismic_detection/data/lunar/training/data/S12_GradeA/xa.s12.00.mhz.1973-01-31HR00_evid00091.mseed\n",
            "./seismic_detection/data/lunar/training/data/S12_GradeA/xa.s12.00.mhz.1973-03-01HR00_evid00093.mseed\n",
            "./seismic_detection/data/lunar/training/data/S12_GradeA/xa.s12.00.mhz.1973-03-13HR00_evid00094.mseed\n",
            "./seismic_detection/data/lunar/training/data/S12_GradeA/xa.s12.00.mhz.1973-03-24HR00_evid00097.mseed\n",
            "./seismic_detection/data/lunar/training/data/S12_GradeA/xa.s12.00.mhz.1973-05-14HR00_evid00104.mseed\n",
            "./seismic_detection/data/lunar/training/data/S12_GradeA/xa.s12.00.mhz.1973-06-05HR00_evid00107.mseed\n",
            "./seismic_detection/data/lunar/training/data/S12_GradeA/xa.s12.00.mhz.1973-06-05HR00_evid00108.mseed\n",
            "./seismic_detection/data/lunar/training/data/S12_GradeA/xa.s12.00.mhz.1973-06-18HR00_evid00109.mseed\n",
            "./seismic_detection/data/lunar/training/data/S12_GradeA/xa.s12.00.mhz.1973-06-27HR00_evid00112.mseed\n",
            "./seismic_detection/data/lunar/training/data/S12_GradeA/xa.s12.00.mhz.1973-07-03HR00_evid00113.mseed\n",
            "./seismic_detection/data/lunar/training/data/S12_GradeA/xa.s12.00.mhz.1973-07-04HR00_evid00114.mseed\n",
            "./seismic_detection/data/lunar/training/data/S12_GradeA/xa.s12.00.mhz.1973-07-20HR00_evid00117.mseed\n",
            "./seismic_detection/data/lunar/training/data/S12_GradeA/xa.s12.00.mhz.1973-07-28HR00_evid00120.mseed\n",
            "./seismic_detection/data/lunar/training/data/S12_GradeA/xa.s12.00.mhz.1973-07-29HR00_evid00121.mseed\n",
            "./seismic_detection/data/lunar/training/data/S12_GradeA/xa.s12.00.mhz.1973-08-21HR00_evid00127.mseed\n",
            "./seismic_detection/data/lunar/training/data/S12_GradeA/xa.s12.00.mhz.1974-02-07HR00_evid00137.mseed\n",
            "./seismic_detection/data/lunar/training/data/S12_GradeA/xa.s12.00.mhz.1974-01-10HR00_evid00136.mseed\n",
            "./seismic_detection/data/lunar/training/data/S12_GradeA/xa.s12.00.mhz.1974-02-12HR00_evid00138.mseed\n",
            "./seismic_detection/data/lunar/training/data/S12_GradeA/xa.s12.00.mhz.1974-03-25HR00_evid00140.mseed\n",
            "./seismic_detection/data/lunar/training/data/S12_GradeA/xa.s12.00.mhz.1974-04-19HR00_evid00142.mseed\n",
            "./seismic_detection/data/lunar/training/data/S12_GradeA/xa.s12.00.mhz.1974-04-08HR00_evid00141.mseed\n",
            "./seismic_detection/data/lunar/training/data/S12_GradeA/xa.s12.00.mhz.1974-04-26HR00_evid00144.mseed\n",
            "./seismic_detection/data/lunar/training/data/S12_GradeA/xa.s12.00.mhz.1974-04-27HR00_evid00145.mseed\n",
            "./seismic_detection/data/lunar/training/data/S12_GradeA/xa.s12.00.mhz.1974-06-25HR00_evid00149.mseed\n",
            "./seismic_detection/data/lunar/training/data/S12_GradeA/xa.s12.00.mhz.1974-07-06HR00_evid00150.mseed\n",
            "./seismic_detection/data/lunar/training/data/S12_GradeA/xa.s12.00.mhz.1974-07-06HR00_evid00151.mseed\n",
            "./seismic_detection/data/lunar/training/data/S12_GradeA/xa.s12.00.mhz.1974-07-11HR00_evid00152.mseed\n",
            "./seismic_detection/data/lunar/training/data/S12_GradeA/xa.s12.00.mhz.1974-07-17HR00_evid00153.mseed\n",
            "./seismic_detection/data/lunar/training/data/S12_GradeA/xa.s12.00.mhz.1974-10-14HR00_evid00156.mseed\n",
            "./seismic_detection/data/lunar/training/data/S12_GradeA/xa.s12.00.mhz.1975-04-12HR00_evid00191.mseed\n",
            "./seismic_detection/data/lunar/training/data/S12_GradeA/xa.s12.00.mhz.1975-05-04HR00_evid00192.mseed\n",
            "./seismic_detection/data/lunar/training/data/S12_GradeA/xa.s12.00.mhz.1975-06-24HR00_evid00196.mseed\n",
            "./seismic_detection/data/lunar/training/data/S12_GradeA/xa.s12.00.mhz.1975-06-26HR00_evid00198.mseed\n"
          ]
        }
      ]
    },
    {
      "cell_type": "code",
      "source": [
        "from google.colab import drive\n",
        "drive.mount('/content/drive')"
      ],
      "metadata": {
        "colab": {
          "base_uri": "https://localhost:8080/"
        },
        "id": "kFqLObTdq9zi",
        "outputId": "6fb19ae8-54e1-4d07-f105-3617d042dc44"
      },
      "id": "kFqLObTdq9zi",
      "execution_count": 42,
      "outputs": [
        {
          "output_type": "stream",
          "name": "stdout",
          "text": [
            "Drive already mounted at /content/drive; to attempt to forcibly remount, call drive.mount(\"/content/drive\", force_remount=True).\n"
          ]
        }
      ]
    },
    {
      "cell_type": "code",
      "source": [],
      "metadata": {
        "id": "EGKW8_iOoVBv"
      },
      "id": "EGKW8_iOoVBv",
      "execution_count": null,
      "outputs": []
    }
  ],
  "metadata": {
    "kernelspec": {
      "display_name": "Python 3 (ipykernel)",
      "language": "python",
      "name": "python3"
    },
    "language_info": {
      "codemirror_mode": {
        "name": "ipython",
        "version": 3
      },
      "file_extension": ".py",
      "mimetype": "text/x-python",
      "name": "python",
      "nbconvert_exporter": "python",
      "pygments_lexer": "ipython3",
      "version": "3.9.16"
    },
    "colab": {
      "provenance": [],
      "collapsed_sections": [
        "b10d9ddf",
        "c9241cc8",
        "38478a52-6e57-453b-9885-71d05679a841"
      ]
    }
  },
  "nbformat": 4,
  "nbformat_minor": 5
}